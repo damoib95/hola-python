{
 "cells": [
  {
   "cell_type": "markdown",
   "metadata": {
    "id": "yZUalTbMq4UU"
   },
   "source": [
    "# 2. Variables 📦\n",
    "Una variable es un espacio de memoria en el cual podemos almacenar valores. \n",
    "\n",
    "Por ejemplo, en el siguiente código. Se asigna el valor ```4``` a una variable llamada ```x```."
   ]
  },
  {
   "cell_type": "code",
   "execution_count": 1,
   "metadata": {},
   "outputs": [],
   "source": [
    "x = 4"
   ]
  },
  {
   "cell_type": "markdown",
   "metadata": {},
   "source": [
    "## Características\n",
    "\n",
    "Las variables poseen las siguientes características:\n",
    "1.   Puede almacenar distintos tipos de datos.\n",
    "2.   Su valor se puede modificar.\n",
    "3.   Se referencian por un nombre único (idealmente, significativo).\n",
    "\n",
    "Observaciones sobre nombres de variables:\n",
    "1.   Python diferencia entre mayúsculas y minúsculas.\n",
    "2.   No pueden iniciar con números.\n",
    "3.   No pueden contener espacios.\n",
    "4.   No se pueden utilizar **palabras reservadas** (más adelante aprenderemos qué significan).\n"
   ]
  },
  {
   "cell_type": "code",
   "execution_count": 2,
   "metadata": {},
   "outputs": [
    {
     "name": "stdout",
     "output_type": "stream",
     "text": [
      "100\n"
     ]
    }
   ],
   "source": [
    "a = 100\n",
    "print(a)"
   ]
  },
  {
   "cell_type": "markdown",
   "metadata": {},
   "source": [
    "Si asignamos un nuevo valor a la misma variable, el valor anterior es reemplazado."
   ]
  },
  {
   "cell_type": "code",
   "execution_count": 3,
   "metadata": {
    "colab": {
     "base_uri": "https://localhost:8080/",
     "height": 34
    },
    "executionInfo": {
     "elapsed": 473,
     "status": "ok",
     "timestamp": 1596060117049,
     "user": {
      "displayName": "Diego Morales",
      "photoUrl": "https://lh3.googleusercontent.com/a-/AOh14Gi1umqpq867AA17xPSeWgAZYhxsQqK9VVmJvgUW=s64",
      "userId": "14615934830481406908"
     },
     "user_tz": 360
    },
    "id": "jiS6OkIQHDCV",
    "outputId": "cf1c587f-cc16-4057-90a7-dd00f2e1ef50"
   },
   "outputs": [
    {
     "name": "stdout",
     "output_type": "stream",
     "text": [
      "200\n"
     ]
    }
   ],
   "source": [
    "a = 100\n",
    "a = 200\n",
    "print(a)"
   ]
  },
  {
   "cell_type": "markdown",
   "metadata": {},
   "source": [
    "Si se desean crear variables utilizando nombres significativos conformados por varias palabras, se recomienda utilizar la “notación de camello” (*camelCase*):"
   ]
  },
  {
   "cell_type": "code",
   "execution_count": 4,
   "metadata": {
    "colab": {
     "base_uri": "https://localhost:8080/",
     "height": 34
    },
    "executionInfo": {
     "elapsed": 633,
     "status": "ok",
     "timestamp": 1596060291728,
     "user": {
      "displayName": "Diego Morales",
      "photoUrl": "https://lh3.googleusercontent.com/a-/AOh14Gi1umqpq867AA17xPSeWgAZYhxsQqK9VVmJvgUW=s64",
      "userId": "14615934830481406908"
     },
     "user_tz": 360
    },
    "id": "q_SS_iV-WAmw",
    "outputId": "82074fca-e1ae-41fe-a800-f2ee15795677"
   },
   "outputs": [],
   "source": [
    "correoElectronico = 'juan_lopez2020@gmail.com'"
   ]
  },
  {
   "cell_type": "markdown",
   "metadata": {},
   "source": [
    "También pueden separarse las palabras utilizando **guion bajo**, sin embargo, este tipo de notación suele utilizarse para funciones."
   ]
  },
  {
   "cell_type": "code",
   "execution_count": 5,
   "metadata": {
    "colab": {
     "base_uri": "https://localhost:8080/",
     "height": 34
    },
    "executionInfo": {
     "elapsed": 386,
     "status": "ok",
     "timestamp": 1596060373898,
     "user": {
      "displayName": "Diego Morales",
      "photoUrl": "https://lh3.googleusercontent.com/a-/AOh14Gi1umqpq867AA17xPSeWgAZYhxsQqK9VVmJvgUW=s64",
      "userId": "14615934830481406908"
     },
     "user_tz": 360
    },
    "id": "mDY2jN1mWK5c",
    "outputId": "58f5ca19-925c-47d7-a3b3-e09bf8300382"
   },
   "outputs": [],
   "source": [
    "correo_electronico = 'juan_lopez2020@gmail.com'"
   ]
  },
  {
   "cell_type": "markdown",
   "metadata": {
    "id": "TB_ildvoHDaT"
   },
   "source": [
    "# Tipos de datos\n",
    "\n",
    "Existen una gran cantidad de tipos de datos en Python: *Texto, numéricos, secuencia, mapeos, conjuntos, booleanos, binarios*.\n",
    "\n"
   ]
  },
  {
   "cell_type": "markdown",
   "metadata": {
    "id": "UJUlCh4N0jvu"
   },
   "source": [
    "## Entero (int)\n",
    "Dato numérico utilizado para representar números enteros."
   ]
  },
  {
   "cell_type": "code",
   "execution_count": 6,
   "metadata": {
    "colab": {
     "base_uri": "https://localhost:8080/",
     "height": 34
    },
    "executionInfo": {
     "elapsed": 330,
     "status": "ok",
     "timestamp": 1596060466522,
     "user": {
      "displayName": "Diego Morales",
      "photoUrl": "https://lh3.googleusercontent.com/a-/AOh14Gi1umqpq867AA17xPSeWgAZYhxsQqK9VVmJvgUW=s64",
      "userId": "14615934830481406908"
     },
     "user_tz": 360
    },
    "id": "p5ojuYwVo2IA",
    "outputId": "cd5fa51e-f93e-4cf3-9a80-a3d088600902"
   },
   "outputs": [
    {
     "name": "stdout",
     "output_type": "stream",
     "text": [
      "256\n"
     ]
    }
   ],
   "source": [
    "cantidadAlumnos = 256\n",
    "print(cantidadAlumnos)"
   ]
  },
  {
   "cell_type": "markdown",
   "metadata": {
    "id": "SfjZkgI-0aUj"
   },
   "source": [
    "\n",
    "## Flotante (float)\n",
    "Dato numérico utilizado para representar números reales, es decir, números con cifras decimales.\n",
    "\n"
   ]
  },
  {
   "cell_type": "code",
   "execution_count": 7,
   "metadata": {
    "colab": {
     "base_uri": "https://localhost:8080/",
     "height": 34
    },
    "executionInfo": {
     "elapsed": 362,
     "status": "ok",
     "timestamp": 1596060512664,
     "user": {
      "displayName": "Diego Morales",
      "photoUrl": "https://lh3.googleusercontent.com/a-/AOh14Gi1umqpq867AA17xPSeWgAZYhxsQqK9VVmJvgUW=s64",
      "userId": "14615934830481406908"
     },
     "user_tz": 360
    },
    "id": "eW-_JyTg0n9L",
    "outputId": "9b935f83-8755-47bd-b563-ba5853c14d59"
   },
   "outputs": [
    {
     "name": "stdout",
     "output_type": "stream",
     "text": [
      "1.75\n"
     ]
    }
   ],
   "source": [
    "alturaMetros = 1.75\n",
    "print(alturaMetros)"
   ]
  },
  {
   "cell_type": "markdown",
   "metadata": {
    "id": "LM4Ht_gP0o7q"
   },
   "source": [
    "\n",
    "## Texto (str)\n",
    "Cadena de caracteres: letras, números y símbolos.\n",
    "El valor **se debe colocar dentro de comillas simples o dobles** para indicar que es un ```str```."
   ]
  },
  {
   "cell_type": "code",
   "execution_count": 8,
   "metadata": {
    "colab": {
     "base_uri": "https://localhost:8080/"
    },
    "executionInfo": {
     "elapsed": 7,
     "status": "ok",
     "timestamp": 1679758787938,
     "user": {
      "displayName": "Diego Morales",
      "userId": "14615934830481406908"
     },
     "user_tz": 360
    },
    "id": "EWhncY1D0vTs",
    "outputId": "d03757f1-d182-48a0-f7dd-d21b1b23cf6c"
   },
   "outputs": [
    {
     "name": "stdout",
     "output_type": "stream",
     "text": [
      "The Lord of the Rings: The Return of the King (2003)\n",
      "256\n",
      "1.75\n"
     ]
    }
   ],
   "source": [
    "movie = \"The Lord of the Rings: The Return of the King (2003)\"\n",
    "cantidadAlumnos2 = \"256\"\n",
    "alturaMetros2 = \"1.75\"\n",
    "print(movie)\n",
    "print(cantidadAlumnos2)\n",
    "print(alturaMetros2)"
   ]
  },
  {
   "cell_type": "markdown",
   "metadata": {},
   "source": [
    "> ⚠️ Se debe tener especial cuidado al manejar números representados como cadenas de caracteres ya que Python no los interpretará como valores numéricos (```int``` o ```float```)."
   ]
  },
  {
   "cell_type": "markdown",
   "metadata": {
    "id": "3wOTICQX0vkL"
   },
   "source": [
    "## Función type\n",
    "La función ```type()``` se puede utilizar para conocer el tipo de dato de una variable."
   ]
  },
  {
   "cell_type": "code",
   "execution_count": 9,
   "metadata": {
    "colab": {
     "base_uri": "https://localhost:8080/",
     "height": 51
    },
    "executionInfo": {
     "elapsed": 304,
     "status": "ok",
     "timestamp": 1596060846897,
     "user": {
      "displayName": "Diego Morales",
      "photoUrl": "https://lh3.googleusercontent.com/a-/AOh14Gi1umqpq867AA17xPSeWgAZYhxsQqK9VVmJvgUW=s64",
      "userId": "14615934830481406908"
     },
     "user_tz": 360
    },
    "id": "UbEbXwxt0vsT",
    "outputId": "bdef5443-2ad7-4fb1-e952-de2bd4d4e120"
   },
   "outputs": [
    {
     "name": "stdout",
     "output_type": "stream",
     "text": [
      "<class 'int'>\n",
      "<class 'str'>\n"
     ]
    }
   ],
   "source": [
    "print(type(cantidadAlumnos))\n",
    "print(type(cantidadAlumnos2))"
   ]
  }
 ],
 "metadata": {
  "colab": {
   "authorship_tag": "ABX9TyM7+YPIx08jQbz2BCn1g/Lw",
   "provenance": []
  },
  "kernelspec": {
   "display_name": "Python 3 (ipykernel)",
   "language": "python",
   "name": "python3"
  },
  "language_info": {
   "codemirror_mode": {
    "name": "ipython",
    "version": 3
   },
   "file_extension": ".py",
   "mimetype": "text/x-python",
   "name": "python",
   "nbconvert_exporter": "python",
   "pygments_lexer": "ipython3",
   "version": "3.9.13"
  }
 },
 "nbformat": 4,
 "nbformat_minor": 1
}
