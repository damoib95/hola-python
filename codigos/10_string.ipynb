{
  "nbformat": 4,
  "nbformat_minor": 0,
  "metadata": {
    "colab": {
      "provenance": []
    },
    "kernelspec": {
      "name": "python3",
      "display_name": "Python 3"
    }
  },
  "cells": [
    {
      "cell_type": "markdown",
      "metadata": {
        "id": "HBeGongnDqXB"
      },
      "source": [
        "# String\n",
        "\n",
        "Un string es una cadena o secuencia de caracteres (letras, números o símbolos).\n",
        "\n"
      ]
    },
    {
      "cell_type": "markdown",
      "metadata": {
        "id": "nnrOvyxOHXTi"
      },
      "source": [
        "## Inicialización\n",
        "\n",
        "Para crear un string, simplemente colocamos la cadena de caracteres dentro de comillas simples o dobles."
      ]
    },
    {
      "cell_type": "code",
      "metadata": {
        "id": "uKhrW3vuGiGK",
        "colab": {
          "base_uri": "https://localhost:8080/",
          "height": 35
        },
        "outputId": "7553f2f8-782e-4e00-9575-bbe0773b9efd"
      },
      "source": [
        "saludo = '¡Bienvenido a mi programa! _versión 2.1_'\n",
        "print(saludo)"
      ],
      "execution_count": null,
      "outputs": [
        {
          "output_type": "stream",
          "text": [
            "¡Bienvenido a mi programa! _versión 2.1_\n"
          ],
          "name": "stdout"
        }
      ]
    },
    {
      "cell_type": "markdown",
      "metadata": {
        "id": "gBjjjCUaHb6N"
      },
      "source": [
        "También podemos utilizar la función **str()** para convertir cualquier tipo de dato a string."
      ]
    },
    {
      "cell_type": "code",
      "metadata": {
        "id": "JDUGwWaRHhYe",
        "colab": {
          "base_uri": "https://localhost:8080/",
          "height": 52
        },
        "outputId": "760d670c-81fb-4c41-ee2a-ed4127472941"
      },
      "source": [
        "usuario = 27\n",
        "print(type(usuario))\n",
        "usuario = str(usuario)\n",
        "print(type(usuario))"
      ],
      "execution_count": null,
      "outputs": [
        {
          "output_type": "stream",
          "text": [
            "<class 'int'>\n",
            "<class 'str'>\n"
          ],
          "name": "stdout"
        }
      ]
    },
    {
      "cell_type": "markdown",
      "metadata": {
        "id": "xjD5bK7UIBxg"
      },
      "source": [
        "## Concatenación\n",
        "\n",
        "Podemos unir dos strings utilizando el símbolo **+**. Asegurarse que ambos valores sean de tipo *str*."
      ]
    },
    {
      "cell_type": "code",
      "metadata": {
        "id": "WLPXBmhgInA0",
        "colab": {
          "base_uri": "https://localhost:8080/",
          "height": 35
        },
        "outputId": "2b282593-cea1-433c-af36-44657a6139af"
      },
      "source": [
        "message = \"Your name is \"\n",
        "name = \"Diego\"\n",
        "text = message+name\n",
        "print(text)"
      ],
      "execution_count": null,
      "outputs": [
        {
          "output_type": "stream",
          "text": [
            "Your name is Diego\n"
          ],
          "name": "stdout"
        }
      ]
    },
    {
      "cell_type": "code",
      "metadata": {
        "id": "T0qkK7v1IQ80",
        "colab": {
          "base_uri": "https://localhost:8080/",
          "height": 35
        },
        "outputId": "a79d4803-5ca1-46c7-b133-3d3c70b118f9"
      },
      "source": [
        "a = \"El precio es de: \"\n",
        "b = 19.99\n",
        "c = a+str(b)\n",
        "print(c)"
      ],
      "execution_count": null,
      "outputs": [
        {
          "output_type": "stream",
          "text": [
            "El precio es de: 19.99\n"
          ],
          "name": "stdout"
        }
      ]
    },
    {
      "cell_type": "markdown",
      "metadata": {
        "id": "_cLpL-pXJnPx"
      },
      "source": [
        "## Longitud\n",
        "\n",
        "Podemos determinar el tamaño del string, es decir, el número de caracteres utilizando la función **len()**."
      ]
    },
    {
      "cell_type": "code",
      "metadata": {
        "id": "NZyEaZqNJt0n",
        "colab": {
          "base_uri": "https://localhost:8080/",
          "height": 35
        },
        "outputId": "d4d70f4d-bc5f-4e9d-a7e3-a53d56c1d94b"
      },
      "source": [
        "ciudad = \"Guatemala\"\n",
        "longitud = len(ciudad)\n",
        "print(longitud)"
      ],
      "execution_count": null,
      "outputs": [
        {
          "output_type": "stream",
          "text": [
            "9\n"
          ],
          "name": "stdout"
        }
      ]
    },
    {
      "cell_type": "markdown",
      "metadata": {
        "id": "CoRuGCeEJAGF"
      },
      "source": [
        "## Indexación\n",
        "\n",
        "Podemos acceder a caracteres individuales utilizando el operador de indexación **[ ]** justo después del string.\n",
        "\n",
        "Dentro de paréntesis, se debe especificar el índice del caracter.\n",
        "\n",
        "**Importante**: Los índices inician con *0*.\n",
        "\n",
        "Para acceder al último caracter, se puede colocar el índice *-1*\n",
        "\n",
        "Por ejemplo, si tenemos un string \"python\", estos serían los índices de cada caracter.\n",
        "\n",
        "0 | 1 | 2 | 3 | 4 | 5\n",
        "--- | --- | --- | --- | --- | ---\n",
        "p | y | t | h | o | n\n"
      ]
    },
    {
      "cell_type": "code",
      "metadata": {
        "id": "62GE2NzJJQ2w",
        "colab": {
          "base_uri": "https://localhost:8080/",
          "height": 35
        },
        "outputId": "b77d3f44-bd16-444f-c2d7-9225757008e4"
      },
      "source": [
        "x = \"python 3\"\n",
        "print(x)"
      ],
      "execution_count": null,
      "outputs": [
        {
          "output_type": "stream",
          "text": [
            "python 3\n"
          ],
          "name": "stdout"
        }
      ]
    },
    {
      "cell_type": "code",
      "metadata": {
        "id": "Cv5TbiaEKEzI",
        "colab": {
          "base_uri": "https://localhost:8080/",
          "height": 35
        },
        "outputId": "895c0117-c4fc-46e0-eb5a-bd295ce9ac59"
      },
      "source": [
        "print(x[0])"
      ],
      "execution_count": null,
      "outputs": [
        {
          "output_type": "stream",
          "text": [
            "p\n"
          ],
          "name": "stdout"
        }
      ]
    },
    {
      "cell_type": "code",
      "metadata": {
        "id": "kZSd-9PdKSsQ",
        "colab": {
          "base_uri": "https://localhost:8080/",
          "height": 35
        },
        "outputId": "51e46036-0f71-4902-9ec3-b830c7f2dd3e"
      },
      "source": [
        "print(x[-1])"
      ],
      "execution_count": null,
      "outputs": [
        {
          "output_type": "stream",
          "text": [
            "3\n"
          ],
          "name": "stdout"
        }
      ]
    },
    {
      "cell_type": "markdown",
      "metadata": {
        "id": "Otr36_iCSOUb"
      },
      "source": [
        "## Corte (slicing)\n",
        "\n",
        "Podemos acceder a grupos de caracteres utilizando el operador de indexación y especificando el índice inicial y final separados por dos puntos **[ : ]**.\n",
        "\n",
        "Obtendremos un string conformado por todos los caracteres del índice de inicio hasta el índica del final (sin incluir el este último).\n",
        "\n",
        "Si se omite el índice al inicio, se selecciona por defecto el índice 0. Y si se omite el índice del final, se selecciona por defecto el último índice.\n",
        "\n",
        "Por ejemplo, si tenemos el siguiente string.\n",
        "\n",
        "0 | 1 | 2 | 3 | 4 | 5 | 6 | 7 | 8 | 9 | 10 | 11 | 12\n",
        "--- | --- | --- | --- | --- | --- | --- | --- | --- | --- | --- | --- | ---\n",
        "D | i | e | g | o |  | M | o | r | a | l | e | s\n"
      ]
    },
    {
      "cell_type": "code",
      "metadata": {
        "id": "gZ6md5PWXzcU",
        "colab": {
          "base_uri": "https://localhost:8080/",
          "height": 35
        },
        "outputId": "cc7785c1-6af2-46a5-84d3-66770f738c15"
      },
      "source": [
        "nombreCompleto = \"Diego Morales\"\n",
        "print(nombreCompleto)"
      ],
      "execution_count": null,
      "outputs": [
        {
          "output_type": "stream",
          "text": [
            "Diego Morales\n"
          ],
          "name": "stdout"
        }
      ]
    },
    {
      "cell_type": "code",
      "metadata": {
        "id": "61pm6HWRX79G",
        "colab": {
          "base_uri": "https://localhost:8080/",
          "height": 35
        },
        "outputId": "b0815388-a216-4140-8528-f6f2624bdea5"
      },
      "source": [
        "nombre = nombreCompleto[:5]\n",
        "print(nombre)"
      ],
      "execution_count": null,
      "outputs": [
        {
          "output_type": "stream",
          "text": [
            "Diego\n"
          ],
          "name": "stdout"
        }
      ]
    },
    {
      "cell_type": "code",
      "metadata": {
        "id": "tFw71P-uYCB_",
        "colab": {
          "base_uri": "https://localhost:8080/",
          "height": 35
        },
        "outputId": "a0c8b452-86ff-46d3-8f92-61c74123543d"
      },
      "source": [
        "apellido = nombreCompleto[6:]\n",
        "print(apellido)"
      ],
      "execution_count": null,
      "outputs": [
        {
          "output_type": "stream",
          "text": [
            "Diego Morales\n"
          ],
          "name": "stdout"
        }
      ]
    },
    {
      "cell_type": "markdown",
      "metadata": {
        "id": "Tdo6kZnXZgby"
      },
      "source": [
        "## Métodos\n",
        "\n",
        "Los string poseen métodos integrados que podemos utilizar. Estos métodos no modifican el string original sino que retornan un nuevo string con la salida.\n",
        "\n",
        "Documentación de Python: [String Methods](https://docs.python.org/3/library/stdtypes.html#string-methods)\n",
        "\n"
      ]
    },
    {
      "cell_type": "code",
      "metadata": {
        "id": "UxXz9IuHbd3j",
        "colab": {
          "base_uri": "https://localhost:8080/",
          "height": 35
        },
        "outputId": "47c78d34-4353-46cc-e07b-129f358043bd"
      },
      "source": [
        "date = \"   FECHA: 1 de enero de 1970 \"\n",
        "print(date)"
      ],
      "execution_count": null,
      "outputs": [
        {
          "output_type": "stream",
          "text": [
            "   FECHA: 1 de enero de 1970 \n"
          ],
          "name": "stdout"
        }
      ]
    },
    {
      "cell_type": "code",
      "metadata": {
        "id": "FmIHqDcti2eg",
        "colab": {
          "base_uri": "https://localhost:8080/",
          "height": 35
        },
        "outputId": "9826dc76-f72d-4912-8fdb-0af54f548ebd"
      },
      "source": [
        "date = date.strip()\n",
        "print(date)"
      ],
      "execution_count": null,
      "outputs": [
        {
          "output_type": "stream",
          "text": [
            "FECHA: 1 de enero de 1970\n"
          ],
          "name": "stdout"
        }
      ]
    },
    {
      "cell_type": "code",
      "metadata": {
        "id": "vwDFDtSa0s5i",
        "colab": {
          "base_uri": "https://localhost:8080/",
          "height": 35
        },
        "outputId": "c0d03299-d8f7-471c-8fb1-fb783ca3f264"
      },
      "source": [
        "\"enero\" == \"Enero\".lower()"
      ],
      "execution_count": null,
      "outputs": [
        {
          "output_type": "execute_result",
          "data": {
            "text/plain": [
              "True"
            ]
          },
          "metadata": {
            "tags": []
          },
          "execution_count": 42
        }
      ]
    },
    {
      "cell_type": "code",
      "metadata": {
        "id": "ocq8SDKtbvHJ",
        "colab": {
          "base_uri": "https://localhost:8080/",
          "height": 35
        },
        "outputId": "ffc5eef6-eaf1-4134-dcff-b9853bcc05dd"
      },
      "source": [
        ",print(date.upper())"
      ],
      "execution_count": null,
      "outputs": [
        {
          "output_type": "stream",
          "text": [
            "FECHA: 1 DE ENERO DE 1970\n"
          ],
          "name": "stdout"
        }
      ]
    },
    {
      "cell_type": "code",
      "metadata": {
        "id": "a-1feypobyD_",
        "colab": {
          "base_uri": "https://localhost:8080/",
          "height": 35
        },
        "outputId": "5a7aa538-032c-4c3f-9ad0-906d2747528a"
      },
      "source": [
        "print(date.lower())"
      ],
      "execution_count": null,
      "outputs": [
        {
          "output_type": "stream",
          "text": [
            "fecha: 1 de enero de 1970\n"
          ],
          "name": "stdout"
        }
      ]
    },
    {
      "cell_type": "code",
      "metadata": {
        "id": "DXLHRZrQgfgd",
        "colab": {
          "base_uri": "https://localhost:8080/",
          "height": 52
        },
        "outputId": "10f94318-23d7-4eab-f039-ff21dbf01b5c"
      },
      "source": [
        "year = \"2020\"\n",
        "print(year)\n",
        "print(year.isnumeric())"
      ],
      "execution_count": null,
      "outputs": [
        {
          "output_type": "stream",
          "text": [
            "2020\n",
            "True\n"
          ],
          "name": "stdout"
        }
      ]
    },
    {
      "cell_type": "code",
      "metadata": {
        "id": "HO5pgzwpeFig",
        "colab": {
          "base_uri": "https://localhost:8080/",
          "height": 35
        },
        "outputId": "88b85399-d631-4bde-c443-7887a0a590bd"
      },
      "source": [
        "print(\"enero\" in date)"
      ],
      "execution_count": null,
      "outputs": [
        {
          "output_type": "stream",
          "text": [
            "True\n"
          ],
          "name": "stdout"
        }
      ]
    },
    {
      "cell_type": "code",
      "metadata": {
        "id": "84qJ-gw_eWEw",
        "colab": {
          "base_uri": "https://localhost:8080/",
          "height": 35
        },
        "outputId": "c6a071e1-96e4-4658-eee8-63ceb57d84c0"
      },
      "source": [
        "print(date.find(\"enero\"))"
      ],
      "execution_count": null,
      "outputs": [
        {
          "output_type": "stream",
          "text": [
            "12\n"
          ],
          "name": "stdout"
        }
      ]
    },
    {
      "cell_type": "code",
      "metadata": {
        "id": "Pbf4Pm0cedER",
        "colab": {
          "base_uri": "https://localhost:8080/",
          "height": 35
        },
        "outputId": "9c2950ef-7a92-40bd-fe0d-2ce094eca92d"
      },
      "source": [
        "print(date.find(\"marzo\"))"
      ],
      "execution_count": null,
      "outputs": [
        {
          "output_type": "stream",
          "text": [
            "-1\n"
          ],
          "name": "stdout"
        }
      ]
    },
    {
      "cell_type": "code",
      "metadata": {
        "id": "vlNzMmoEefN3",
        "colab": {
          "base_uri": "https://localhost:8080/",
          "height": 35
        },
        "outputId": "81baa931-bca2-4377-d6af-be309384a1b4"
      },
      "source": [
        "print(date.replace(\"enero\",\"febrero\"))"
      ],
      "execution_count": null,
      "outputs": [
        {
          "output_type": "stream",
          "text": [
            "FECHA: 1 de febrero de 1970\n"
          ],
          "name": "stdout"
        }
      ]
    },
    {
      "cell_type": "code",
      "metadata": {
        "id": "6Ig0jg0MjBRv",
        "colab": {
          "base_uri": "https://localhost:8080/",
          "height": 52
        },
        "outputId": "3ab83e7b-4fd4-4229-9657-31e495d1bcf9"
      },
      "source": [
        "elementos = date.split()\n",
        "print(elementos)\n",
        "print(elementos[3])"
      ],
      "execution_count": null,
      "outputs": [
        {
          "output_type": "stream",
          "text": [
            "['FECHA:', '1', 'de', 'enero', 'de', '1970']\n",
            "enero\n"
          ],
          "name": "stdout"
        }
      ]
    },
    {
      "cell_type": "markdown",
      "metadata": {
        "id": "v-IAAEGllRcR"
      },
      "source": [
        "### Ejemplo\n",
        "Recibe un string con información sobre una dirección de correo electrónico. Se le solicita extraer el correo y luego extraer el usuario del mismo."
      ]
    },
    {
      "cell_type": "code",
      "metadata": {
        "id": "3lZ1l4KiiVsi",
        "colab": {
          "base_uri": "https://localhost:8080/",
          "height": 35
        },
        "outputId": "55cc3d79-fe10-4d0e-c289-97fa9017cf71"
      },
      "source": [
        "mensaje = \"Correo de: diego.morales@ameritec.edu.gt  \"\n",
        "print(mensaje)"
      ],
      "execution_count": null,
      "outputs": [
        {
          "output_type": "stream",
          "text": [
            "Correo de: diego.morales@ameritec.edu.gt  \n"
          ],
          "name": "stdout"
        }
      ]
    },
    {
      "cell_type": "code",
      "metadata": {
        "id": "PvLF7RU5lLDq",
        "colab": {
          "base_uri": "https://localhost:8080/",
          "height": 35
        },
        "outputId": "9e087d2f-2dfa-44bc-a97b-74ccf2f62cee"
      },
      "source": [
        "start = mensaje.find(\":\")\n",
        "print(start)"
      ],
      "execution_count": null,
      "outputs": [
        {
          "output_type": "stream",
          "text": [
            "9\n"
          ],
          "name": "stdout"
        }
      ]
    },
    {
      "cell_type": "code",
      "metadata": {
        "id": "5dby5isrmOSx",
        "colab": {
          "base_uri": "https://localhost:8080/",
          "height": 35
        },
        "outputId": "9b84f7a5-c4f2-4b42-9ceb-0e3915fb17df"
      },
      "source": [
        "correo = mensaje[start+1:]\n",
        "print(correo)"
      ],
      "execution_count": null,
      "outputs": [
        {
          "output_type": "stream",
          "text": [
            " diego.morales@ameritec.edu.gt  \n"
          ],
          "name": "stdout"
        }
      ]
    },
    {
      "cell_type": "code",
      "metadata": {
        "id": "bvNgD523maJP",
        "colab": {
          "base_uri": "https://localhost:8080/",
          "height": 35
        },
        "outputId": "c382f58e-b8a3-4a18-900a-323fe121c3f5"
      },
      "source": [
        "correo = correo.strip()\n",
        "print(correo)"
      ],
      "execution_count": null,
      "outputs": [
        {
          "output_type": "stream",
          "text": [
            "diego.morales@ameritec.edu.gt\n"
          ],
          "name": "stdout"
        }
      ]
    },
    {
      "cell_type": "code",
      "metadata": {
        "id": "_sGAF8oEmdC6",
        "colab": {
          "base_uri": "https://localhost:8080/",
          "height": 35
        },
        "outputId": "4be6f357-94cf-4c51-a0ad-0a3c79220471"
      },
      "source": [
        "partes = correo.split(\"@\")\n",
        "print(partes)"
      ],
      "execution_count": null,
      "outputs": [
        {
          "output_type": "stream",
          "text": [
            "['diego.morales', 'ameritec.edu.gt']\n"
          ],
          "name": "stdout"
        }
      ]
    },
    {
      "cell_type": "code",
      "metadata": {
        "id": "-X9QnQv9mxBg",
        "colab": {
          "base_uri": "https://localhost:8080/",
          "height": 35
        },
        "outputId": "14a19678-51f5-459b-9465-58c41f6169f5"
      },
      "source": [
        "usuario = partes[0]\n",
        "print(usuario)"
      ],
      "execution_count": null,
      "outputs": [
        {
          "output_type": "stream",
          "text": [
            "diego.morales\n"
          ],
          "name": "stdout"
        }
      ]
    },
    {
      "cell_type": "markdown",
      "metadata": {
        "id": "_FffbKdKfB8b"
      },
      "source": [
        "## Formato de cadenas\n",
        "\n",
        "En Python 3 podemos utilizar un formato para los string que mezclan caracteres con variables.\n",
        "\n",
        "Se debe inicializar el string escribiendo  una *f* y especificar dentro de llaves las variables *{ }*."
      ]
    },
    {
      "cell_type": "code",
      "metadata": {
        "id": "SWekhnNRE1i4",
        "colab": {
          "base_uri": "https://localhost:8080/",
          "height": 35
        },
        "outputId": "2f94fcfe-2cd1-4a5c-a138-2b8bb1032fe4"
      },
      "source": [
        "estudiante = \"Diego\"\n",
        "actividad = 3\n",
        "nota = 100.0\n",
        "\n",
        "mensaje = f\"Hola {estudiante}, tu nota de la actividad {actividad} es de {nota}\"\n",
        "print(mensaje)"
      ],
      "execution_count": null,
      "outputs": [
        {
          "output_type": "stream",
          "text": [
            "Hola Diego, tu nota de la actividad 3 es de 100.0\n"
          ],
          "name": "stdout"
        }
      ]
    },
    {
      "cell_type": "code",
      "metadata": {
        "id": "Xa7xK6az4yxs"
      },
      "source": [],
      "execution_count": null,
      "outputs": []
    }
  ]
}