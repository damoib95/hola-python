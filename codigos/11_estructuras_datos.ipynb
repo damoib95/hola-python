{
  "cells": [
    {
      "cell_type": "markdown",
      "metadata": {
        "id": "HBeGongnDqXB"
      },
      "source": [
        "# Estructuras de Datos\n",
        "\n",
        "Permiten organizar, manipular y almacenar objetos relacionados para que se pueda trabajar con ellos de forma eficiente. Se emplea una única variable para almacenar varios objetos.\n",
        "\n",
        "\n",
        "Existen las siguientes estructuras de datos en Python:\n",
        "\n",
        "* Listas (List)\n",
        "* Tuplas (Tuples)\n",
        "* Conjuntos (Set)\n",
        "* Diccionarios (Dictionaries)\n",
        "\n",
        "\n"
      ]
    },
    {
      "cell_type": "markdown",
      "metadata": {},
      "source": [
        "## Intuición sobre Listas\n",
        "\n",
        "Imagine que se le entrega la siguiente lista de compras.\n",
        "\n",
        "|Índice|Frutas|\n",
        "|---|---|\n",
        "|0|Manzana|\n",
        "|1|Banano|\n",
        "|2|Naranja|\n",
        "|3|Mango|\n",
        "\n",
        "Cuando usted llega al supermercado, se da cuenta de que las naranjas están agotadas, pero sí hay mandarinas. Entonces, usted se dirige al indice 2, y escribe *Mandarina* en su lugar.\n",
        "\n",
        "|Índice|Frutas|\n",
        "|---|---|\n",
        "|0|Manzana|\n",
        "|1|Banano|\n",
        "|2|Mandarina|\n",
        "|3|Mango|\n",
        "\n",
        "Luego de recoger todos los artículos, se da cuenta de que esta semana el mango está muy caro y prefiere no comprarlo, así que lo borra de la lista.\n",
        "\n",
        "|Índice|Frutas|\n",
        "|---|---|\n",
        "|0|Manzana|\n",
        "|1|Banano|\n",
        "|2|Mandarina|\n",
        "\n",
        "Finalmente, cuando llega a la caja, le ofrecen pera y kiwi en oferta y usted decide agregarlos al listado y llevárselos. Su lista resultante, sería la siguiente:\n",
        "\n",
        "|Índice|Frutas|\n",
        "|---|---|\n",
        "|0|Manzana|\n",
        "|1|Banano|\n",
        "|2|Mandarina|\n",
        "|3|Pera|\n",
        "|4|Kiwi|\n",
        "\n",
        "Las listas en Python funcionan de forma similar, permitiendo agrupar artículos similares (frutas, en este caso) y permitiendo realizar modificaciones sobre ellas (cambiar, eliminar, agregar)."
      ]
    },
    {
      "cell_type": "markdown",
      "metadata": {
        "id": "JW7KvUEPMOHH"
      },
      "source": [
        "## Listas\n",
        "\n",
        "* Permiten almacenar cualquier tipo de objeto (no necesariamente deben ser todos de la misma clase).\n",
        "* Son modificables (mutables).\n",
        "* Dinámicas\n",
        "\n",
        "### Creación de Listas\n",
        "\n",
        "Se emplea la siguiente sintaxis.\n",
        "\n",
        "```\n",
        "nombreLista = [elemento0, elemento1, elemento2, ...]\n",
        "```\n",
        "\n"
      ]
    },
    {
      "cell_type": "code",
      "execution_count": 1,
      "metadata": {
        "colab": {
          "base_uri": "https://localhost:8080/",
          "height": 34
        },
        "id": "ZPWRk0BXMblQ",
        "outputId": "bb201a8b-4a57-4bed-9f80-75ff68bbfc86"
      },
      "outputs": [
        {
          "name": "stdout",
          "output_type": "stream",
          "text": [
            "['manzana', 'pera', 'naranja', 'mora']\n"
          ]
        }
      ],
      "source": [
        "frutas = ['manzana', 'pera', 'naranja', 'mora']\n",
        "print(frutas)"
      ]
    },
    {
      "cell_type": "code",
      "execution_count": 2,
      "metadata": {
        "colab": {
          "base_uri": "https://localhost:8080/",
          "height": 34
        },
        "id": "S3wH-9y9NuVj",
        "outputId": "31513e47-631b-4610-c199-27de6b5d0f1b"
      },
      "outputs": [
        {
          "name": "stdout",
          "output_type": "stream",
          "text": [
            "[90, 89.5, 92, 95.5]\n"
          ]
        }
      ],
      "source": [
        "notas = [90, 89.5, 92, 95.5]\n",
        "print(notas)"
      ]
    },
    {
      "cell_type": "markdown",
      "metadata": {
        "id": "m5uLVI8HOL75"
      },
      "source": [
        "### Indexación\n",
        "\n",
        "Para acceder a elementos de listas se utiliza el operador de indexación y se especifica el índice del objeto [index]."
      ]
    },
    {
      "cell_type": "code",
      "execution_count": 3,
      "metadata": {
        "colab": {
          "base_uri": "https://localhost:8080/",
          "height": 34
        },
        "id": "dv_m5EFAMnAI",
        "outputId": "7ecfbe47-0ef6-4285-c38f-6fca669300d6"
      },
      "outputs": [
        {
          "name": "stdout",
          "output_type": "stream",
          "text": [
            "mora\n"
          ]
        }
      ],
      "source": [
        "print(frutas[3])"
      ]
    },
    {
      "cell_type": "code",
      "execution_count": 4,
      "metadata": {
        "colab": {
          "base_uri": "https://localhost:8080/",
          "height": 34
        },
        "id": "-ADfbtOqMo2Y",
        "outputId": "bc1ffd9b-64ac-4154-f047-0523ea7559c5"
      },
      "outputs": [
        {
          "name": "stdout",
          "output_type": "stream",
          "text": [
            "mora\n"
          ]
        }
      ],
      "source": [
        "print(frutas[-1])"
      ]
    },
    {
      "cell_type": "code",
      "execution_count": 5,
      "metadata": {
        "colab": {
          "base_uri": "https://localhost:8080/",
          "height": 34
        },
        "id": "tRd9qW_zMqXh",
        "outputId": "27838f8a-6a97-4b7b-c7e7-ba227a7079cc"
      },
      "outputs": [
        {
          "name": "stdout",
          "output_type": "stream",
          "text": [
            "['pera', 'naranja']\n"
          ]
        }
      ],
      "source": [
        "print(frutas[1:3])"
      ]
    },
    {
      "cell_type": "markdown",
      "metadata": {
        "id": "yeC3lHo0ObnC"
      },
      "source": [
        "### Asignación\n",
        "\n",
        "Para asignar un nuevo valor a una posición de una lista, se especifica el elemento (o elementos) que se desean modificar accediendo a él y se le asigna su nuevo valor.\n"
      ]
    },
    {
      "cell_type": "code",
      "execution_count": 6,
      "metadata": {
        "colab": {
          "base_uri": "https://localhost:8080/",
          "height": 34
        },
        "id": "bIF7P_hBM3rw",
        "outputId": "42860988-869a-40db-a09b-bef2c7994a46"
      },
      "outputs": [
        {
          "name": "stdout",
          "output_type": "stream",
          "text": [
            "[90, 89.5, 92, 95.5]\n"
          ]
        }
      ],
      "source": [
        "print(notas)"
      ]
    },
    {
      "cell_type": "code",
      "execution_count": 7,
      "metadata": {
        "id": "FpjX3dZbMs6h"
      },
      "outputs": [],
      "source": [
        "notas[2] = 100"
      ]
    },
    {
      "cell_type": "code",
      "execution_count": 8,
      "metadata": {
        "id": "IMRV89Z5M4dH"
      },
      "outputs": [],
      "source": [
        "notas[0:2] = [85, 87]"
      ]
    },
    {
      "cell_type": "markdown",
      "metadata": {
        "id": "1Vjvepf4O5iG"
      },
      "source": [
        "### Agregar y remover elementos\n",
        "\n",
        "Se pueden agregar elementos al final de una lista utilizando **append()** y se puede remover algún elemento en específico utilizando **remove()**. Dentro del paréntesis se coloca el objeto que se desea agregar o eliminar.\n",
        "\n",
        "**Observación**: Si se intenta remover un objeto que no está en la lista, se producirá un error."
      ]
    },
    {
      "cell_type": "code",
      "execution_count": 9,
      "metadata": {
        "colab": {
          "base_uri": "https://localhost:8080/",
          "height": 34
        },
        "id": "k8QK2diBO0m3",
        "outputId": "8bce7e18-8637-4355-a1bb-bf6d43e769e4"
      },
      "outputs": [
        {
          "name": "stdout",
          "output_type": "stream",
          "text": [
            "['manzana', 'pera', 'naranja', 'mora']\n"
          ]
        }
      ],
      "source": [
        "print(frutas)"
      ]
    },
    {
      "cell_type": "code",
      "execution_count": 10,
      "metadata": {
        "id": "7W0YsySyQVYI"
      },
      "outputs": [],
      "source": [
        "frutas.append(\"fresa\")"
      ]
    },
    {
      "cell_type": "code",
      "execution_count": 11,
      "metadata": {
        "id": "S1LbU2yDQVyQ"
      },
      "outputs": [],
      "source": [
        "frutas.remove(\"pera\")"
      ]
    },
    {
      "cell_type": "markdown",
      "metadata": {
        "id": "Y0jiatMbRCd8"
      },
      "source": [
        "### Número de elementos\n",
        "\n",
        "Para obtener el número de elementos en una lista se utiliza el método **len()**."
      ]
    },
    {
      "cell_type": "code",
      "execution_count": 12,
      "metadata": {
        "id": "dAz13o2vRG0x"
      },
      "outputs": [],
      "source": [
        "numeroFrutas = len(frutas)"
      ]
    },
    {
      "cell_type": "code",
      "execution_count": 13,
      "metadata": {
        "colab": {
          "base_uri": "https://localhost:8080/",
          "height": 34
        },
        "id": "LE_DzH5SRKna",
        "outputId": "f57bb793-0e72-4522-9d86-8e19c6eaeba2"
      },
      "outputs": [
        {
          "name": "stdout",
          "output_type": "stream",
          "text": [
            "La lista contiene 4 frutas.\n"
          ]
        }
      ],
      "source": [
        "print(\"La lista contiene\",numeroFrutas,\"frutas.\")"
      ]
    },
    {
      "cell_type": "markdown",
      "metadata": {
        "id": "763HRSQIRUA-"
      },
      "source": [
        "### Existencia del elemento\n",
        "\n",
        "Para verificar si un elemento se encuentra dentro de una lista se utiliza in.\n",
        "\n",
        "El resultado será **True** si el elemento se encuentra en la lista y **False** de no ser así."
      ]
    },
    {
      "cell_type": "code",
      "execution_count": 14,
      "metadata": {
        "colab": {
          "base_uri": "https://localhost:8080/",
          "height": 34
        },
        "id": "zTtQN3Z3RaS5",
        "outputId": "bf8e99e2-52f9-46ab-ccf4-ab6c92664597"
      },
      "outputs": [
        {
          "name": "stdout",
          "output_type": "stream",
          "text": [
            "False\n"
          ]
        }
      ],
      "source": [
        "print(\"cereza\" in frutas)"
      ]
    },
    {
      "cell_type": "code",
      "execution_count": 15,
      "metadata": {
        "colab": {
          "base_uri": "https://localhost:8080/",
          "height": 34
        },
        "id": "ev1MoRV0RcVh",
        "outputId": "75a14978-c84b-48cc-a473-c188b1b946d0"
      },
      "outputs": [
        {
          "name": "stdout",
          "output_type": "stream",
          "text": [
            "True\n"
          ]
        }
      ],
      "source": [
        "print(\"fresa\" in frutas)"
      ]
    },
    {
      "cell_type": "markdown",
      "metadata": {
        "id": "s5D9mIigRlGH"
      },
      "source": [
        "### Recorrer elementos\n",
        "\n",
        "Podemos emplear un búcle **for** para recorrer por los elementos de una lista.\n"
      ]
    },
    {
      "cell_type": "code",
      "execution_count": 16,
      "metadata": {
        "colab": {
          "base_uri": "https://localhost:8080/",
          "height": 86
        },
        "id": "JOZ3EfXuRmx5",
        "outputId": "8e60a06d-eb6b-4771-d708-1767851ce972"
      },
      "outputs": [
        {
          "name": "stdout",
          "output_type": "stream",
          "text": [
            "85\n",
            "87\n",
            "100\n",
            "95.5\n"
          ]
        }
      ],
      "source": [
        "for x in notas:\n",
        "  print(x)"
      ]
    },
    {
      "cell_type": "code",
      "execution_count": 17,
      "metadata": {
        "colab": {
          "base_uri": "https://localhost:8080/",
          "height": 86
        },
        "id": "D98vYwp0RxUB",
        "outputId": "61892ef9-9117-45b3-d42b-b777b50b81f8"
      },
      "outputs": [
        {
          "name": "stdout",
          "output_type": "stream",
          "text": [
            "0 manzana\n",
            "1 naranja\n",
            "2 mora\n",
            "3 fresa\n"
          ]
        }
      ],
      "source": [
        "for i in range(len(notas)):\n",
        "  print(i, frutas[i])"
      ]
    },
    {
      "cell_type": "markdown",
      "metadata": {
        "id": "MUN8iK_YavLP"
      },
      "source": [
        "## Tuplas\n",
        "\n",
        "* Permiten almacenar cualquier tipo de objeto (no necesariamente deben ser todos de la misma clase).\n",
        "* No son modificables (inmutables).\n",
        "* Más rápidas que las listas.\n",
        "* Protección contra escritura.\n",
        "* Se suelen utilizar con diccionarios.\n",
        "\n",
        "Se emplea la siguiente sintaxis.\n",
        "\n",
        "```\n",
        "nombreTupla = (elemento0, elemento1, elemento2, ...)\n",
        "```\n",
        "\n"
      ]
    },
    {
      "cell_type": "code",
      "execution_count": 18,
      "metadata": {
        "colab": {
          "base_uri": "https://localhost:8080/",
          "height": 34
        },
        "id": "JVmdxS0ba6wp",
        "outputId": "4729eb43-3539-4a43-89d9-7c5da67aa889"
      },
      "outputs": [
        {
          "name": "stdout",
          "output_type": "stream",
          "text": [
            "('manzana', 'pera', 'naranja', 'mora')\n"
          ]
        }
      ],
      "source": [
        "frutas = ('manzana', 'pera', 'naranja', 'mora')\n",
        "print(frutas)"
      ]
    },
    {
      "cell_type": "code",
      "execution_count": 19,
      "metadata": {
        "colab": {
          "base_uri": "https://localhost:8080/",
          "height": 34
        },
        "id": "l_UoBTPkbC8t",
        "outputId": "aed44a72-c285-4110-8719-009e3cf39eba"
      },
      "outputs": [
        {
          "name": "stdout",
          "output_type": "stream",
          "text": [
            "(90, 89.5, 92, 95.5)\n"
          ]
        }
      ],
      "source": [
        "notas = (90, 89.5, 92, 95.5)\n",
        "print(notas)"
      ]
    },
    {
      "cell_type": "markdown",
      "metadata": {
        "id": "mmwWna3TbMZj"
      },
      "source": [
        "### Indexación\n",
        "\n",
        "Para acceder a elementos de una tupla se utiliza el operador de indexación y se especifica el índice del objeto [index]."
      ]
    },
    {
      "cell_type": "code",
      "execution_count": 20,
      "metadata": {
        "colab": {
          "base_uri": "https://localhost:8080/",
          "height": 34
        },
        "id": "h6iEllBfbQ4A",
        "outputId": "221b332f-df00-4270-e12a-00a46899e120"
      },
      "outputs": [
        {
          "name": "stdout",
          "output_type": "stream",
          "text": [
            "mora\n"
          ]
        }
      ],
      "source": [
        "print(frutas[3])"
      ]
    },
    {
      "cell_type": "code",
      "execution_count": 21,
      "metadata": {
        "colab": {
          "base_uri": "https://localhost:8080/",
          "height": 34
        },
        "id": "RHcRhlvmbS76",
        "outputId": "f6d9d051-d207-4879-9aea-1cbabb1c4c69"
      },
      "outputs": [
        {
          "name": "stdout",
          "output_type": "stream",
          "text": [
            "mora\n"
          ]
        }
      ],
      "source": [
        "print(frutas[-1])"
      ]
    },
    {
      "cell_type": "code",
      "execution_count": 22,
      "metadata": {
        "colab": {
          "base_uri": "https://localhost:8080/",
          "height": 34
        },
        "id": "WkcnnjSBbUpC",
        "outputId": "54a4dd3b-ac82-4ae1-bbb7-c766ae78c0df"
      },
      "outputs": [
        {
          "name": "stdout",
          "output_type": "stream",
          "text": [
            "('pera', 'naranja', 'mora')\n"
          ]
        }
      ],
      "source": [
        "print(frutas[1:4])"
      ]
    },
    {
      "cell_type": "markdown",
      "metadata": {
        "id": "o6w4SPN7cjt0"
      },
      "source": [
        "### Número de elementos\n",
        "\n",
        "Para obtener el número de elementos en una tupla se utiliza el método **len()**."
      ]
    },
    {
      "cell_type": "code",
      "execution_count": 23,
      "metadata": {
        "id": "zr-tuJclcnHK"
      },
      "outputs": [],
      "source": [
        "numeroFrutas = len(frutas)"
      ]
    },
    {
      "cell_type": "code",
      "execution_count": 24,
      "metadata": {
        "colab": {
          "base_uri": "https://localhost:8080/",
          "height": 34
        },
        "id": "DyBYeTpecvfr",
        "outputId": "29eab3c8-d879-4d48-d804-e59bfec746d5"
      },
      "outputs": [
        {
          "name": "stdout",
          "output_type": "stream",
          "text": [
            "La tupla contiene 4 frutas.\n"
          ]
        }
      ],
      "source": [
        "print(\"La tupla contiene\",numeroFrutas,\"frutas.\")"
      ]
    },
    {
      "cell_type": "markdown",
      "metadata": {
        "id": "4koCPsjFcncq"
      },
      "source": [
        "### Existencia del elemento\n",
        "\n",
        "Para verificar si un elemento se encuentra dentro de una tupla se utiliza **in**.\n",
        "\n",
        "El resultado será **True** si el elemento se encuentra en la tupla y **False** de no ser así."
      ]
    },
    {
      "cell_type": "code",
      "execution_count": 25,
      "metadata": {
        "colab": {
          "base_uri": "https://localhost:8080/",
          "height": 34
        },
        "id": "NQSxLdshbW4Z",
        "outputId": "3cab0b8d-3931-409b-eab3-c87e28f76d13"
      },
      "outputs": [
        {
          "name": "stdout",
          "output_type": "stream",
          "text": [
            "False\n"
          ]
        }
      ],
      "source": [
        "print(\"cereza\" in frutas)"
      ]
    },
    {
      "cell_type": "code",
      "execution_count": 26,
      "metadata": {
        "colab": {
          "base_uri": "https://localhost:8080/",
          "height": 34
        },
        "id": "hZVvK1qLc1Mb",
        "outputId": "ccfb251f-cafb-4f74-bbca-1fc2f574c9a7"
      },
      "outputs": [
        {
          "name": "stdout",
          "output_type": "stream",
          "text": [
            "True\n"
          ]
        }
      ],
      "source": [
        "print(\"naranja\" in frutas)"
      ]
    },
    {
      "cell_type": "markdown",
      "metadata": {
        "id": "MWcxigDTdD1J"
      },
      "source": [
        "### Recorrer elementos\n",
        "\n",
        "Podemos emplear un búcle **for** para recorrer por los elementos de una tupla.\n"
      ]
    },
    {
      "cell_type": "code",
      "execution_count": 27,
      "metadata": {
        "colab": {
          "base_uri": "https://localhost:8080/",
          "height": 86
        },
        "id": "5jR7QAM1dFPZ",
        "outputId": "9e233af2-c101-410e-8f02-abf3f182e179"
      },
      "outputs": [
        {
          "name": "stdout",
          "output_type": "stream",
          "text": [
            "90\n",
            "89.5\n",
            "92\n",
            "95.5\n"
          ]
        }
      ],
      "source": [
        "for x in notas:\n",
        "  print(x)"
      ]
    },
    {
      "cell_type": "code",
      "execution_count": 28,
      "metadata": {
        "colab": {
          "base_uri": "https://localhost:8080/",
          "height": 86
        },
        "id": "PHixEI25dGr3",
        "outputId": "d4d2feaf-e8d5-478f-d7dd-51913c921509"
      },
      "outputs": [
        {
          "name": "stdout",
          "output_type": "stream",
          "text": [
            "0 90\n",
            "1 89.5\n",
            "2 92\n",
            "3 95.5\n"
          ]
        }
      ],
      "source": [
        "for i in range(len(notas)):\n",
        "  print(i, notas[i])"
      ]
    },
    {
      "cell_type": "markdown",
      "metadata": {
        "id": "_rLN3_ahdP46"
      },
      "source": [
        "## Conjuntos\n",
        "\n",
        "* Permiten almacenar cualquier tipo de objeto.\n",
        "* Implementa operaciones de teoría de conjuntos.\n",
        "* No se puede acceder a los elementos.\n",
        "* No se pueden modificar los elementos existentes, pero sí se permite añadir y eliminar.\n",
        "* Los elementos no tienen un orden específico.\n",
        "* No se pueden repetir los elementos dentro del cojunto (son únicos).\n",
        "\n",
        "Se emplea la siguiente sintaxis.\n",
        "\n",
        "\n",
        "```\n",
        "nombreConjunto = {elementoA, elementoB, elementoC, ...}\n",
        "```\n",
        "\n"
      ]
    },
    {
      "cell_type": "code",
      "execution_count": 29,
      "metadata": {
        "colab": {
          "base_uri": "https://localhost:8080/",
          "height": 35
        },
        "id": "QE7BNs7QdWjK",
        "outputId": "b7cedc96-fbc6-4341-d2f9-74e3f100549d"
      },
      "outputs": [
        {
          "name": "stdout",
          "output_type": "stream",
          "text": [
            "{'Google', 'Apple', 'Facebook', 'Amazon'}\n"
          ]
        }
      ],
      "source": [
        "companies = {\"Apple\", \"Google\", \"Facebook\", \"Amazon\"}\n",
        "print(companies )"
      ]
    },
    {
      "cell_type": "markdown",
      "metadata": {
        "id": "mS0UmE8gd1ac"
      },
      "source": [
        "### Recorrer elementos\n",
        "\n",
        "Podemos emplear un búcle **for** para recorrer por los elementos de un conjunto.\n"
      ]
    },
    {
      "cell_type": "code",
      "execution_count": 30,
      "metadata": {
        "colab": {
          "base_uri": "https://localhost:8080/",
          "height": 87
        },
        "id": "zX-JEqOxdg54",
        "outputId": "25f84031-7cef-44b3-82b5-79391008ca09"
      },
      "outputs": [
        {
          "name": "stdout",
          "output_type": "stream",
          "text": [
            "Google\n",
            "Apple\n",
            "Facebook\n",
            "Amazon\n"
          ]
        }
      ],
      "source": [
        "for c in companies:\n",
        "  print(c)"
      ]
    },
    {
      "cell_type": "markdown",
      "metadata": {
        "id": "Or3ymu3ReLZo"
      },
      "source": [
        "### Existencia del elemento\n",
        "\n",
        "Para verificar si un elemento se encuentra dentro de un conjnuto se utiliza **in**.\n",
        "\n",
        "El resultado será **True** si el elemento se encuentra en la lista y **False** de no ser así."
      ]
    },
    {
      "cell_type": "code",
      "execution_count": 31,
      "metadata": {
        "colab": {
          "base_uri": "https://localhost:8080/",
          "height": 35
        },
        "id": "tmbzZ4n2d4yx",
        "outputId": "e4016e5c-63be-4083-c374-bf3f1c98a8f0"
      },
      "outputs": [
        {
          "name": "stdout",
          "output_type": "stream",
          "text": [
            "True\n"
          ]
        }
      ],
      "source": [
        "print(\"Facebook\" in companies)"
      ]
    },
    {
      "cell_type": "code",
      "execution_count": 32,
      "metadata": {
        "colab": {
          "base_uri": "https://localhost:8080/",
          "height": 35
        },
        "id": "XnkS0-DteQNZ",
        "outputId": "379991f2-1887-44f5-b78f-095a54e4a7de"
      },
      "outputs": [
        {
          "name": "stdout",
          "output_type": "stream",
          "text": [
            "False\n"
          ]
        }
      ],
      "source": [
        "print(\"NVIDIA\" in companies)"
      ]
    },
    {
      "cell_type": "markdown",
      "metadata": {
        "id": "bsWs1Mo4emaD"
      },
      "source": [
        "### Agregar y remover elementos\n",
        "\n",
        "Se pueden agregar elementos al final de un conjunto utilizando **add()** y se puede remover algún elemento en específico utilizando **remove()**. Dentro del paréntesis se coloca el objeto que se desea agregar o eliminar."
      ]
    },
    {
      "cell_type": "code",
      "execution_count": 34,
      "metadata": {
        "id": "I59SDQ1ceZz5"
      },
      "outputs": [],
      "source": [
        "companies.remove('Google')"
      ]
    },
    {
      "cell_type": "code",
      "execution_count": 35,
      "metadata": {
        "colab": {
          "base_uri": "https://localhost:8080/",
          "height": 35
        },
        "id": "BllyX3jOe3tz",
        "outputId": "446f81b3-0e39-414b-a5b5-e898c19cb472"
      },
      "outputs": [
        {
          "data": {
            "text/plain": [
              "{'Amazon', 'Apple', 'Facebook'}"
            ]
          },
          "execution_count": 35,
          "metadata": {},
          "output_type": "execute_result"
        }
      ],
      "source": [
        "companies"
      ]
    },
    {
      "cell_type": "markdown",
      "metadata": {
        "id": "97zqtABkirRW"
      },
      "source": [
        "### Operaciones de conjuntos\n",
        "\n",
        "Podemos emplear los siguientes métodos para realizar operaciones entre dos conjuntos.\n",
        "\n",
        "* union\n",
        "* intersection\n",
        "* issubset\n",
        "* issuperset\n",
        "* difference"
      ]
    },
    {
      "cell_type": "code",
      "execution_count": 36,
      "metadata": {
        "id": "wSKcBxWfe5GR"
      },
      "outputs": [],
      "source": [
        "a = {1, 2, 3, 4, 5}\n",
        "b = {2, 4, 6, 8}\n",
        "c = {4, 5}"
      ]
    },
    {
      "cell_type": "code",
      "execution_count": 37,
      "metadata": {
        "colab": {
          "base_uri": "https://localhost:8080/",
          "height": 34
        },
        "id": "7Jf1RhQKjvPy",
        "outputId": "ea04d0be-b938-4426-c122-59287a1faa3e"
      },
      "outputs": [
        {
          "data": {
            "text/plain": [
              "{1, 2, 3, 4, 5, 6, 8}"
            ]
          },
          "execution_count": 37,
          "metadata": {},
          "output_type": "execute_result"
        }
      ],
      "source": [
        "a.union(b)"
      ]
    },
    {
      "cell_type": "code",
      "execution_count": 38,
      "metadata": {
        "colab": {
          "base_uri": "https://localhost:8080/",
          "height": 35
        },
        "id": "kQsnHL7ljLr1",
        "outputId": "b99cf30d-d129-4478-e4a5-116d333412f9"
      },
      "outputs": [
        {
          "data": {
            "text/plain": [
              "{2, 4}"
            ]
          },
          "execution_count": 38,
          "metadata": {},
          "output_type": "execute_result"
        }
      ],
      "source": [
        "a.intersection(b)"
      ]
    },
    {
      "cell_type": "code",
      "execution_count": 39,
      "metadata": {
        "colab": {
          "base_uri": "https://localhost:8080/",
          "height": 35
        },
        "id": "BhOJjYJijN8Z",
        "outputId": "aafdc307-0ee1-4388-8cbe-3a881714fc50"
      },
      "outputs": [
        {
          "data": {
            "text/plain": [
              "True"
            ]
          },
          "execution_count": 39,
          "metadata": {},
          "output_type": "execute_result"
        }
      ],
      "source": [
        "c.issubset(a)"
      ]
    },
    {
      "cell_type": "code",
      "execution_count": 40,
      "metadata": {
        "colab": {
          "base_uri": "https://localhost:8080/",
          "height": 35
        },
        "id": "1AcBATE2jftA",
        "outputId": "8c1b40e0-9a54-4ff6-bdbe-422ce54fc204"
      },
      "outputs": [
        {
          "data": {
            "text/plain": [
              "{2, 6, 8}"
            ]
          },
          "execution_count": 40,
          "metadata": {},
          "output_type": "execute_result"
        }
      ],
      "source": [
        "b.difference(c)"
      ]
    },
    {
      "cell_type": "markdown",
      "metadata": {},
      "source": [
        "### Intuición sobre diccionarios\n",
        "Por ejemplo, imagine que se le solicita crear una estructura de datos para almacenar numeros telefónicos de personas. Si utilizara una lista, el resultado sería el siguiente:\n",
        "\n",
        "|Índice|Número telefónico|\n",
        "|---|---|\n",
        "|0|2222-4466|\n",
        "|1|2358-0000|\n",
        "|2|2468-0246|\n",
        "\n",
        "En este caso, resultaría muy difícil buscar el número de alguna persona en específico. En cambio, si utilizamos diccionarios, obtendríamos lo siguiente:\n",
        "\n",
        "|Nombre|Número telefónico|\n",
        "|---|---|\n",
        "|William|2222-4466|\n",
        "|Emma|2358-0000|\n",
        "|John|2468-0246|\n",
        "\n",
        "Ahora, si quisiera obtener el número teléfonico de alguna persona, solo tendría que buscarlo por su nombre."
      ]
    },
    {
      "cell_type": "markdown",
      "metadata": {
        "id": "aRbcxJV3dKEi"
      },
      "source": [
        "## Diccionarios\n",
        "\n",
        "* Permiten almacenar cualquier tipo de objeto asociando un identificador (key) y un valor (value).\n",
        "* Se pueden modificar los valores de los identificadores.\n",
        "* Los elementos no tienen un orden específico.\n",
        "\n",
        "### Creación de Diccionarios\n",
        "\n",
        "Se emplea la siguiente sintaxis.\n",
        "\n",
        "\n",
        "```\n",
        "nombreDiccionario = {key0: value0, key1: value1, key2: value2, ...}\n",
        "```\n",
        "\n",
        "\n"
      ]
    },
    {
      "cell_type": "code",
      "execution_count": 41,
      "metadata": {
        "colab": {
          "base_uri": "https://localhost:8080/",
          "height": 35
        },
        "id": "FAhMpKiwdPwn",
        "outputId": "987b5cf3-967a-4aaa-dfe9-3e77921b10f6"
      },
      "outputs": [
        {
          "name": "stdout",
          "output_type": "stream",
          "text": [
            "{'William': 22224466, 'Emma': 23580000, 'John': 24680246}\n"
          ]
        }
      ],
      "source": [
        "tel = {\"William\":22224466, \"Emma\":23580000, \"John\":24680246}\n",
        "print(tel)"
      ]
    },
    {
      "cell_type": "code",
      "execution_count": 42,
      "metadata": {
        "colab": {
          "base_uri": "https://localhost:8080/",
          "height": 35
        },
        "id": "fzXJiQiUc6n9",
        "outputId": "fef14fcb-c835-4749-eb22-5923b8e1f158"
      },
      "outputs": [
        {
          "name": "stdout",
          "output_type": "stream",
          "text": [
            "dict_keys(['William', 'Emma', 'John'])\n"
          ]
        }
      ],
      "source": [
        "print(tel.keys())"
      ]
    },
    {
      "cell_type": "code",
      "execution_count": 43,
      "metadata": {
        "colab": {
          "base_uri": "https://localhost:8080/",
          "height": 35
        },
        "id": "tX8IHU_Kc9Al",
        "outputId": "ff586afa-d086-4a30-8ef9-3f6a00ce740c"
      },
      "outputs": [
        {
          "name": "stdout",
          "output_type": "stream",
          "text": [
            "dict_values([22224466, 23580000, 24680246])\n"
          ]
        }
      ],
      "source": [
        "print(tel.values())"
      ]
    },
    {
      "cell_type": "markdown",
      "metadata": {
        "id": "tlPHviJ0fhUF"
      },
      "source": [
        "## Indexación\n",
        "\n",
        "Para acceder a elementos de un diccionario se utiliza el operador de indexación y se especifica el identificar o *key* [index]."
      ]
    },
    {
      "cell_type": "code",
      "execution_count": 44,
      "metadata": {
        "colab": {
          "base_uri": "https://localhost:8080/",
          "height": 35
        },
        "id": "CC6lDb9mfnkp",
        "outputId": "681c1b07-6e70-4d32-f4b6-8acf78353a8d"
      },
      "outputs": [
        {
          "name": "stdout",
          "output_type": "stream",
          "text": [
            "22224466\n"
          ]
        }
      ],
      "source": [
        "print(tel[\"William\"])"
      ]
    },
    {
      "cell_type": "markdown",
      "metadata": {
        "id": "yAeOujmjfu28"
      },
      "source": [
        "### Asignación de un elemento\n",
        "\n",
        "Para asignar un valor a un identificar, se especifica el elemento (o elementos) que se desean modificar accediendo a él y se le asigna su nuevo valor.\n"
      ]
    },
    {
      "cell_type": "code",
      "execution_count": 45,
      "metadata": {
        "colab": {
          "base_uri": "https://localhost:8080/",
          "height": 35
        },
        "id": "ujwMDkNYf23S",
        "outputId": "230673eb-7ed6-4c6c-9c50-62875a00f532"
      },
      "outputs": [
        {
          "name": "stdout",
          "output_type": "stream",
          "text": [
            "{'William': 22224466, 'Emma': 23580000, 'John': 22222222}\n"
          ]
        }
      ],
      "source": [
        "tel[\"John\"] = 22222222\n",
        "print(tel)"
      ]
    },
    {
      "cell_type": "markdown",
      "metadata": {
        "id": "rl7cHq-ef3Sb"
      },
      "source": [
        "### Agregar y remover elementos\n",
        "\n",
        "Se pueden agregar elementos a un diccionario utilizando el operador de indexación y especificando el nombre del nuevo identificador, luego, se coloca el operador de asignación y se asigna un valor.\n",
        "\n",
        "\n",
        "Para eliminar un identificar de un diccionario se puede utilizar el método **pop()**."
      ]
    },
    {
      "cell_type": "code",
      "execution_count": 46,
      "metadata": {
        "colab": {
          "base_uri": "https://localhost:8080/",
          "height": 35
        },
        "id": "uzNVrzrvgerB",
        "outputId": "b161b9cf-0e8e-4815-972c-69b211df5f17"
      },
      "outputs": [
        {
          "name": "stdout",
          "output_type": "stream",
          "text": [
            "{'William': 22224466, 'Emma': 23580000, 'John': 22222222}\n"
          ]
        }
      ],
      "source": [
        "print(tel)"
      ]
    },
    {
      "cell_type": "code",
      "execution_count": 47,
      "metadata": {
        "id": "_mFXgMavgCmr"
      },
      "outputs": [],
      "source": [
        "tel['Diego'] = 22009999"
      ]
    },
    {
      "cell_type": "code",
      "execution_count": 48,
      "metadata": {
        "colab": {
          "base_uri": "https://localhost:8080/",
          "height": 35
        },
        "id": "Iseu9_Iviguj",
        "outputId": "3735a6aa-92d5-4a90-82a4-d1d365e34f34"
      },
      "outputs": [
        {
          "data": {
            "text/plain": [
              "23580000"
            ]
          },
          "execution_count": 48,
          "metadata": {},
          "output_type": "execute_result"
        }
      ],
      "source": [
        "tel.pop('Emma')"
      ]
    },
    {
      "cell_type": "markdown",
      "metadata": {
        "id": "Hd7vkF7BPqMg"
      },
      "source": [
        "### Recorrer elementos\n",
        "\n",
        "Podemos emplear un búcle for para recorrer por los elementos de un diccionario."
      ]
    },
    {
      "cell_type": "code",
      "execution_count": 49,
      "metadata": {
        "colab": {
          "base_uri": "https://localhost:8080/",
          "height": 69
        },
        "id": "thETq4M2PpqU",
        "outputId": "4afbfbe0-13cd-4a4e-b6dc-f510aef6cfee"
      },
      "outputs": [
        {
          "name": "stdout",
          "output_type": "stream",
          "text": [
            "William\n",
            "John\n",
            "Diego\n"
          ]
        }
      ],
      "source": [
        "for nombre in tel:\n",
        "  print(nombre)"
      ]
    },
    {
      "cell_type": "code",
      "execution_count": 50,
      "metadata": {
        "colab": {
          "base_uri": "https://localhost:8080/",
          "height": 69
        },
        "id": "kr6vr2kAVChW",
        "outputId": "843b4039-0b23-4958-e444-2c0b6f62b124"
      },
      "outputs": [
        {
          "name": "stdout",
          "output_type": "stream",
          "text": [
            "William 22224466\n",
            "John 22222222\n",
            "Diego 22009999\n"
          ]
        }
      ],
      "source": [
        "for v in tel:\n",
        "  print(v, tel[v])"
      ]
    },
    {
      "cell_type": "code",
      "execution_count": 51,
      "metadata": {
        "colab": {
          "base_uri": "https://localhost:8080/",
          "height": 69
        },
        "id": "3lIAtpNeVE4T",
        "outputId": "4854fd1c-ad15-4274-df24-44d330b1423f"
      },
      "outputs": [
        {
          "name": "stdout",
          "output_type": "stream",
          "text": [
            "William 22224466\n",
            "John 22222222\n",
            "Diego 22009999\n"
          ]
        }
      ],
      "source": [
        "for k, v in tel.items():\n",
        "  print(k, v)"
      ]
    },
    {
      "cell_type": "markdown",
      "metadata": {},
      "source": [
        "### Intuición sobre matrices\n",
        "Se le proporciona la siguiente tabla con algunos de los mejores videojuegos que han existido.\n",
        "\n",
        "|Game|Year|Genre|\n",
        "|---|---|---|\n",
        "|Bioshock|2007|First-person shooter|\n",
        "|Breath of the Wild|2017|Action-adventure|\n",
        "|Grand Theft Auto V|2013|Action-adventure|\n",
        "|Minecraft|2011|Sandbox|\n",
        "|Portal 2|2011|Puzzle-platformer|\n",
        "|Resident Evil 4|2005|Survival Horror|\n",
        "|The Last of Us|2013|Action-adventure|\n",
        "\n",
        "Usted se propone jugar cada título por semana, iniciando con el género *Acción-Aventura*:\n",
        "\n",
        "|Game|Year|Genre|\n",
        "|---|---|---|\n",
        "|Breath of the Wild|2017|Action-adventure|\n",
        "|Grand Theft Auto V|2013|Action-adventure|\n",
        "|The Last of Us|2013|Action-adventure|\n",
        "\n",
        "De la tabla, usted se da cuenta de que ya ha jugado *Breath of the Wild* previamente, por lo que decide reemplazarlo por otro título del mismo año y género. Busca la fila correspondiente y únicamente modifica el nombre.\n",
        "\n",
        "|Game|Year|Genre|\n",
        "|---|---|---|\n",
        "|Uncharted: The Lost Legacy|2017|Action-adventure|\n",
        "|Grand Theft Auto V|2013|Action-adventure|\n",
        "|The Last of Us|2013|Action-adventure|\n",
        "\n",
        "Por último, cuando llega a la semana 3, se da cuenta de que *The Last of Us* solo se encuentra disponible para PS3/PS4 y usted está jugando en PC. Así que decide cambiar por otro juego reciente que llamó su atención, en este caso, es necesario modificar la fila completa.\n",
        "\n",
        "|Game|Year|Genre|\n",
        "|---|---|---|\n",
        "|Uncharted: The Lost Legacy|2017|Action-adventure|\n",
        "|Grand Theft Auto V|2013|Action-adventure|\n",
        "|The Witcher 3: Wild Hunt|2015|Action role-playing|"
      ]
    },
    {
      "cell_type": "markdown",
      "metadata": {},
      "source": [
        "## Matrices\n",
        "Una matriz es una lista de listas, también se le conoce como lista 2D. Se puede acceder por listas o por elementos [lista][elemento].\n",
        "\n",
        "### Creación de Matrices\n",
        "Se emplea la siguiente **sintaxis**.\n",
        "```Python\n",
        "nombreMatriz = [[elemento0, elemento1,...],[elemento0, elemento1],...]\n",
        "```\n",
        "Los elementos pueden ser de cualquier tipo y no necesariamente deben ser todos de la misma clase."
      ]
    },
    {
      "cell_type": "code",
      "execution_count": 52,
      "metadata": {},
      "outputs": [
        {
          "name": "stdout",
          "output_type": "stream",
          "text": [
            "[['Bioshock', 2007, 'First-person shooter'], ['Breath of the Wild', 2017, 'Action-adventure'], ['Grand Theft Auto V', 2013, 'Action-adventure'], ['Minecraft', 2011, 'Sandbox'], ['Portal 2', 2011, 'Puzzle-platformer'], ['Resident Evil 4', 2005, 'Survival Horror'], ['The Last of Us', 2013, 'Action-adventure']]\n"
          ]
        }
      ],
      "source": [
        "games = [[\"Bioshock\", 2007, \"First-person shooter\"],\n",
        "         [\"Breath of the Wild\", 2017, \"Action-adventure\"],\n",
        "         [\"Grand Theft Auto V\", 2013, \"Action-adventure\"],\n",
        "         [\"Minecraft\", 2011, \"Sandbox\"],\n",
        "         [\"Portal 2\", 2011, \"Puzzle-platformer\"],\n",
        "         [\"Resident Evil 4\", 2005, \"Survival Horror\"],\n",
        "         [\"The Last of Us\", 2013, \"Action-adventure\"]]\n",
        "print(games)"
      ]
    },
    {
      "cell_type": "markdown",
      "metadata": {},
      "source": [
        "### Elementos de una matriz\n",
        "Se trabajan de la misma forma que las listas. Considerar que ahora se trabaja con una lista dentro de una lista.\n",
        "\n",
        "### Número de elementos\n",
        "Para obtener el número de listas, se utiliza el método len()."
      ]
    },
    {
      "cell_type": "code",
      "execution_count": 53,
      "metadata": {},
      "outputs": [
        {
          "name": "stdout",
          "output_type": "stream",
          "text": [
            "número de listas: 7\n"
          ]
        }
      ],
      "source": [
        "print(\"número de listas:\",len(games)) #número de listas"
      ]
    },
    {
      "cell_type": "markdown",
      "metadata": {},
      "source": [
        "### Acceder o asignar elementos\n",
        "\n",
        "Para acceder o asignar elementos, se debe indicar la posición utilizando [ ][ ] especificando la *lista* y *elemento*."
      ]
    },
    {
      "cell_type": "code",
      "execution_count": 54,
      "metadata": {},
      "outputs": [
        {
          "name": "stdout",
          "output_type": "stream",
          "text": [
            "['Bioshock', 2007, 'First-person shooter']\n",
            "Sandbox\n"
          ]
        }
      ],
      "source": [
        "print(games[0]) #acceder a la primera lista\n",
        "print(games[3][2]) #acceder a la cuarta lista, tercer elemento"
      ]
    },
    {
      "cell_type": "code",
      "execution_count": 55,
      "metadata": {},
      "outputs": [
        {
          "name": "stdout",
          "output_type": "stream",
          "text": [
            "['The Last of Us', 2013, 'Action-adventure']\n",
            "['The Witcher 3: Wild Hunt', 2015, 'Action role-playing']\n"
          ]
        }
      ],
      "source": [
        "print(games[-1]) #desplegar la última lista\n",
        "games[-1] = [\"The Witcher 3: Wild Hunt\", 2015, \"Action role-playing\"] #asignar nuevo valor a lista 7\n",
        "print(games[-1]) #desplegar la última lista"
      ]
    },
    {
      "cell_type": "markdown",
      "metadata": {},
      "source": [
        "## Recorrer elementos de una matriz\n",
        "\n",
        "Para recorrer una matriz, se emplea la siguiente **sintaxis**:\n",
        "```Python\n",
        "for i in range(0, len(nombreMatriz)):\n",
        "    bloque de código\n",
        "```"
      ]
    },
    {
      "cell_type": "code",
      "execution_count": 57,
      "metadata": {},
      "outputs": [
        {
          "name": "stdout",
          "output_type": "stream",
          "text": [
            "Bioshock\n",
            "Breath of the Wild\n",
            "Grand Theft Auto V\n",
            "Minecraft\n",
            "Portal 2\n",
            "Resident Evil 4\n",
            "The Witcher 3: Wild Hunt\n"
          ]
        }
      ],
      "source": [
        "for i in range(0, len(games)):\n",
        "    print(games[i][0]) #desplegar los títulos de cada juego"
      ]
    },
    {
      "cell_type": "code",
      "execution_count": 58,
      "metadata": {},
      "outputs": [
        {
          "name": "stdout",
          "output_type": "stream",
          "text": [
            "['Breath of the Wild', 2017, 'Action-adventure']\n",
            "['Grand Theft Auto V', 2013, 'Action-adventure']\n"
          ]
        }
      ],
      "source": [
        "for i in range(0, len(games)):\n",
        "    if(games[i][2]==\"Action-adventure\"): #si el género del juego es Acción-aventura\n",
        "        print(games[i]) #desplegar el título del juego"
      ]
    }
  ],
  "metadata": {
    "colab": {
      "collapsed_sections": [
        "JW7KvUEPMOHH",
        "MUN8iK_YavLP",
        "_rLN3_ahdP46"
      ],
      "provenance": []
    },
    "kernelspec": {
      "display_name": "Python 3",
      "name": "python3"
    },
    "language_info": {
      "codemirror_mode": {
        "name": "ipython",
        "version": 3
      },
      "file_extension": ".py",
      "mimetype": "text/x-python",
      "name": "python",
      "nbconvert_exporter": "python",
      "pygments_lexer": "ipython3",
      "version": "3.11.5"
    }
  },
  "nbformat": 4,
  "nbformat_minor": 0
}
