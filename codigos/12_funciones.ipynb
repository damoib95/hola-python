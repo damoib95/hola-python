{
  "cells": [
    {
      "cell_type": "markdown",
      "metadata": {
        "id": "1sUK_HrfDzQn"
      },
      "source": [
        "# Funciones\n",
        "Bloque de código empleado para realizar una acción o retornar un valor.\n",
        "\n"
      ]
    },
    {
      "cell_type": "markdown",
      "metadata": {
        "id": "e8VcTxYODzQo"
      },
      "source": [
        "### e.g.\n",
        "La función print realiza una **acción**. Despliega el string dentro del paréntesis (parámetro)."
      ]
    },
    {
      "cell_type": "code",
      "execution_count": null,
      "metadata": {
        "id": "Mkz5VLDdDzQp"
      },
      "outputs": [],
      "source": [
        "print(\"Bienvenido a mi programa\")"
      ]
    },
    {
      "cell_type": "markdown",
      "metadata": {
        "id": "gkYICi8LDzQq"
      },
      "source": [
        "### e.g.\n",
        "La función pow **retorna** un valor. Calcula la base (parámetro 1) elevada al exponente (parámetro 2).\n",
        "\n",
        "$2^{3}=2\\cdot2\\cdot2=8$"
      ]
    },
    {
      "cell_type": "code",
      "execution_count": null,
      "metadata": {
        "id": "L9AGLob1DzQr"
      },
      "outputs": [],
      "source": [
        "import math\n",
        "num = math.pow(2,3)\n",
        "print(num)"
      ]
    },
    {
      "cell_type": "markdown",
      "metadata": {
        "id": "mt27Kh5ODzQs"
      },
      "source": [
        "## Definición de funciones propias\n",
        "Para crear una función propia se emplea la siguiente **sintaxis**.\n",
        "```Python\n",
        "def nombreFuncion(parámetro1, parámetro2, etc):\n",
        "    bloque de código\n",
        "    return expresión\n",
        "```\n",
        "El bloque de código de la función emplea indentación (tab). La utilización de parámetros y el retorno de valores es opcional.\n"
      ]
    },
    {
      "cell_type": "markdown",
      "metadata": {
        "id": "QD-sChbADzQs"
      },
      "source": [
        "### Funciones que realizan una acción\n",
        "### e.g.\n",
        "Se quiere evaluar si tres alumnos aprobaron el curso (nota mayor a 60) y desplegar el resultado.\n",
        "\n",
        "| Estudiante | Nota   |\n",
        "|-|-|\n",
        "|John|80|\n",
        "|Sarah|97|\n",
        "|Michael|54|\n",
        "\n",
        "Para ello, se evalúa cada nota y se despliega cada resultado."
      ]
    },
    {
      "cell_type": "code",
      "execution_count": null,
      "metadata": {
        "id": "qVxbANcWDzQt"
      },
      "outputs": [],
      "source": [
        "if(80>60):\n",
        "    print(\"John aprobó el curso\")\n",
        "else:\n",
        "    print(\"John reprobó el curso\")\n",
        "\n",
        "if(97>60):\n",
        "    print(\"Sarah aprobó el curso\")\n",
        "else:\n",
        "    print(\"Sarah reprobó el curso\")\n",
        "\n",
        "if(54>60):\n",
        "    print(\"Michael aprobó el curso\")\n",
        "else:\n",
        "    print(\"Michael reprobó el curso\")"
      ]
    },
    {
      "cell_type": "markdown",
      "metadata": {
        "id": "VLcz9vd_DzQt"
      },
      "source": [
        "Sin embargo, este código es muy ineficiente debido a que es repetitivo. En este caso, resulta conveniente crear una función.\n",
        "\n",
        "Se crea una función llamada *evaluar*, la cual emplea dos parámetros: *nombre* y *nota*."
      ]
    },
    {
      "cell_type": "code",
      "execution_count": null,
      "metadata": {
        "id": "rA2xYyGPDzQu"
      },
      "outputs": [],
      "source": [
        "def evaluar(nombre, nota):\n",
        "    if(nota>60):\n",
        "        print(nombre, \"aprobó el curso\")\n",
        "    else:\n",
        "        print(nombre, \"reprobó el curso\")"
      ]
    },
    {
      "cell_type": "markdown",
      "metadata": {
        "id": "L_YJqIlXDzQu"
      },
      "source": [
        "Ahora que se tiene una función, simplemente bastaría con llamarla y especificar los parámetros. La función realiza la acción de imprimir el resultado."
      ]
    },
    {
      "cell_type": "code",
      "execution_count": null,
      "metadata": {
        "id": "8rF8wAfiDzQu"
      },
      "outputs": [],
      "source": [
        "evaluar(\"John\", 80)\n",
        "evaluar(\"Sarah\", 97)\n",
        "evaluar(\"Michael\", 54)"
      ]
    },
    {
      "cell_type": "markdown",
      "metadata": {
        "id": "zsUUVWeiDzQu"
      },
      "source": [
        "## Funciones que retornan un valor\n",
        "En ciertas ocasiones, se desea retornar un valor para seguirlo utilizando en el código en lugar de simplemente desplegar el resultado.\n",
        "\n",
        "### e. g.\n",
        "Se quiere crear una función que calcule el precio en oferta de un producto. Al final se calcula el monto total de la compra.\n",
        "\n",
        "| Precio Original (Q)| Descuento (%)   |\n",
        "|-|-|\n",
        "|100|25|\n",
        "|35|60|\n",
        "|70|50|\n",
        "|10|5|"
      ]
    },
    {
      "cell_type": "code",
      "execution_count": null,
      "metadata": {
        "id": "IxxUREFgDzQv",
        "scrolled": true
      },
      "outputs": [],
      "source": [
        "def oferta(precioOriginal, descuento):\n",
        "    precioActual = precioOriginal*(100-descuento)/100\n",
        "    return precioActual\n",
        "\n",
        "total = oferta(100,25) + oferta(35, 60) + oferta(70, 50) + oferta(10,5)\n",
        "print(\"Total: Q\",total)"
      ]
    },
    {
      "cell_type": "code",
      "execution_count": null,
      "metadata": {
        "id": "RchApsjaDzQv"
      },
      "outputs": [],
      "source": []
    }
  ],
  "metadata": {
    "colab": {
      "provenance": []
    },
    "kernelspec": {
      "display_name": "Python 3",
      "language": "python",
      "name": "python3"
    },
    "language_info": {
      "codemirror_mode": {
        "name": "ipython",
        "version": 3
      },
      "file_extension": ".py",
      "mimetype": "text/x-python",
      "name": "python",
      "nbconvert_exporter": "python",
      "pygments_lexer": "ipython3",
      "version": "3.7.4"
    }
  },
  "nbformat": 4,
  "nbformat_minor": 0
}
