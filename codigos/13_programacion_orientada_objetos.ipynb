{
  "cells": [
    {
      "cell_type": "markdown",
      "metadata": {
        "id": "iftCeMrCXWUW"
      },
      "source": [
        "# Clases y objetos"
      ]
    },
    {
      "cell_type": "markdown",
      "metadata": {
        "id": "k3F6gZQoXWUX"
      },
      "source": [
        "![whos_that_pokemon.jpg](attachment:whos_that_pokemon.jpg)\n",
        "\n",
        "### Atributos (características)\n",
        "1. Tipo\n",
        "2. Altura\n",
        "3. Peso\n",
        "4. Nivel\n",
        "5. HP (Hit Points)\n",
        "\n",
        "### Métodos (acciones)\n",
        "1. Atacar (movimientos)\n",
        "2. Defender (movimientos)\n",
        "3. Aumentar de nivel\n",
        "4. Evolucionar\n",
        "\n",
        "![pokemon.jpg](attachment:pokemon.jpg)"
      ]
    },
    {
      "cell_type": "markdown",
      "metadata": {
        "id": "4m_srLNtXWUY"
      },
      "source": [
        "## Clases\n",
        "Base (o plano) para crear objetos. Compuesta por atributos y métodos.\n",
        "\n",
        "### Creación de Clases\n",
        "Se emplea la siguiente **sintaxis**.\n",
        "```Python\n",
        "class NombreClase:\n",
        "    def __init__(self, parámetro1, parámetro2, ...):\n",
        "        self.atributo1 = parámetro1\n",
        "        self.atributo2 = parámetro2\n",
        "    def método1(self, parámetro1, parámetro2):\n",
        "        bloque de código\n",
        "```"
      ]
    },
    {
      "cell_type": "code",
      "execution_count": null,
      "metadata": {
        "id": "1kEcfas7XWUa"
      },
      "outputs": [],
      "source": [
        "class Pokemon:\n",
        "    # constructor\n",
        "    def __init__(self, tipo, nivel, ataque1, ataque2):\n",
        "        # atributos\n",
        "        self.tipo = tipo\n",
        "        self.nivel = nivel\n",
        "        self.ataque1 = ataque1\n",
        "        self.ataque2 = ataque2\n",
        "    # métodos = acciones\n",
        "    def pokedex(self):\n",
        "        print(\"-Tipo:\",self.tipo)\n",
        "        print(\"-Nivel:\",self.nivel)\n",
        "        print(\"-Ataque 1:\",self.ataque1[0],\"-Daño:\",self.ataque1[1])\n",
        "        print(\"-Ataque 2:\",self.ataque2[0],\"-Daño:\",self.ataque2[1])\n",
        "    def atacar1(self):\n",
        "        print(f\"¡Ha usado {self.ataque1[0]}!\")\n",
        "    def atacar2(self):\n",
        "        print(f\"¡Ha usado {self.ataque2[0]}!\")\n",
        "    def subirNivel(self):\n",
        "        self.nivel += 1\n",
        "        print(f\"¡Ha subido al nivel {self.nivel}!\")"
      ]
    },
    {
      "cell_type": "markdown",
      "metadata": {
        "id": "3GcSMezGXWUa"
      },
      "source": [
        "## Objetos\n",
        "Instancia de una clase.\n",
        "\n",
        "### Crear un objeto\n",
        "Se emplea la siguiente **sintaxis**.\n",
        "```Python\n",
        "nombreObjeto = nombreClase(atributo1, atributo2, ...)\n",
        "```"
      ]
    },
    {
      "cell_type": "code",
      "execution_count": null,
      "metadata": {
        "id": "Cwo-NS2tXWUb"
      },
      "outputs": [],
      "source": [
        "#creación de un objeto de tipo Pokemon\n",
        "charmander = Pokemon(\"Fuego\", 1,[\"Arañazo\", 6], [\"Lanzallamas\", 70])"
      ]
    },
    {
      "cell_type": "code",
      "execution_count": null,
      "metadata": {
        "id": "79WQSZcUXWUc"
      },
      "outputs": [],
      "source": []
    },
    {
      "cell_type": "code",
      "execution_count": null,
      "metadata": {
        "id": "BveIwjyNXWUc",
        "outputId": "f272bec9-bdf5-46d5-f95c-c9d5e91389ba"
      },
      "outputs": [
        {
          "name": "stdout",
          "output_type": "stream",
          "text": [
            "-Tipo: Fuego\n",
            "-Nivel: 1\n",
            "-Ataque 1: Arañazo -Daño: 6\n",
            "-Ataque 2: Lanzallamas -Daño: 70\n"
          ]
        }
      ],
      "source": [
        "charmander.pokedex() #llamar al método pokedex"
      ]
    },
    {
      "cell_type": "code",
      "execution_count": null,
      "metadata": {
        "id": "AtLnF2JTXWUd",
        "outputId": "c3dc1f96-a579-481e-9adf-10de5a198461"
      },
      "outputs": [
        {
          "name": "stdout",
          "output_type": "stream",
          "text": [
            "¡Ha usado Arañazo!\n"
          ]
        }
      ],
      "source": [
        "charmander.atacar1() #llamar al método atacar1"
      ]
    },
    {
      "cell_type": "code",
      "execution_count": null,
      "metadata": {
        "id": "LoIEXqg4XWUd",
        "outputId": "5bb60999-84bf-44b2-893c-478d8d159006"
      },
      "outputs": [
        {
          "name": "stdout",
          "output_type": "stream",
          "text": [
            "¡Ha subido al nivel 2!\n"
          ]
        }
      ],
      "source": [
        "charmander.subirNivel() #llamar al método subirNivel"
      ]
    },
    {
      "cell_type": "code",
      "execution_count": null,
      "metadata": {
        "id": "TLz47hUdXWUe"
      },
      "outputs": [],
      "source": [
        "#creación de un segundo objeto de tipo Pokemon\n",
        "pikachu = Pokemon(\"Eléctrico\", 17,[\"Ataque Rápido\", 8], [\"Rayo\", 80])"
      ]
    },
    {
      "cell_type": "code",
      "execution_count": null,
      "metadata": {
        "id": "IvL1WfqmXWUe",
        "outputId": "f5321e30-0839-4810-9604-0c2c2ada32f1"
      },
      "outputs": [
        {
          "name": "stdout",
          "output_type": "stream",
          "text": [
            "-Tipo: Eléctrico\n",
            "-Nivel: 17\n",
            "-Ataque 1: Ataque Rápido -Daño: 8\n",
            "-Ataque 2: Rayo -Daño: 80\n"
          ]
        }
      ],
      "source": [
        "pikachu.pokedex()"
      ]
    },
    {
      "cell_type": "code",
      "execution_count": null,
      "metadata": {
        "id": "U6eoPJlgXWUf",
        "outputId": "6f0af425-0072-49d5-be62-1c5a539c9848"
      },
      "outputs": [
        {
          "name": "stdout",
          "output_type": "stream",
          "text": [
            "¡Ha usado Ataque Rápido!\n"
          ]
        }
      ],
      "source": [
        "pikachu.atacar1() #llamar al método atacar1"
      ]
    },
    {
      "cell_type": "code",
      "execution_count": null,
      "metadata": {
        "id": "5hc8VJWsXWUf"
      },
      "outputs": [],
      "source": [
        "pikachu.ataque1 = [\"Voltio Cruel\", 90] #asignar nuevo ataque"
      ]
    },
    {
      "cell_type": "code",
      "execution_count": null,
      "metadata": {
        "id": "ZDc8PDFwXWUf",
        "outputId": "d17a8f2a-aec6-4ac2-9e7a-76920d180097"
      },
      "outputs": [
        {
          "name": "stdout",
          "output_type": "stream",
          "text": [
            "¡Ha usado Voltio Cruel!\n"
          ]
        }
      ],
      "source": [
        "pikachu.atacar1() #llamar al método atacar1"
      ]
    },
    {
      "cell_type": "code",
      "execution_count": null,
      "metadata": {
        "id": "ndfv0ugQXWUg",
        "outputId": "c585e3ab-4d64-479b-9275-73d2a1ed1981"
      },
      "outputs": [
        {
          "name": "stdout",
          "output_type": "stream",
          "text": [
            "¡Ha subido al nivel 18!\n"
          ]
        }
      ],
      "source": [
        "pikachu.subirNivel()"
      ]
    },
    {
      "cell_type": "code",
      "execution_count": null,
      "metadata": {
        "id": "l0Bd7HUqXWUg",
        "outputId": "ae8b4d76-a276-40c0-a8f7-140f4b1370e2"
      },
      "outputs": [
        {
          "name": "stdout",
          "output_type": "stream",
          "text": [
            "-Tipo: Eléctrico\n",
            "-Nivel: 18\n",
            "-Ataque 1: Voltio Cruel -Daño: 90\n",
            "-Ataque 2: Rayo -Daño: 80\n"
          ]
        }
      ],
      "source": [
        "pikachu.pokedex()"
      ]
    },
    {
      "cell_type": "code",
      "execution_count": null,
      "metadata": {
        "id": "Eu0xncS1XWUh"
      },
      "outputs": [],
      "source": []
    }
  ],
  "metadata": {
    "colab": {
      "provenance": []
    },
    "kernelspec": {
      "display_name": "Python 3",
      "language": "python",
      "name": "python3"
    },
    "language_info": {
      "codemirror_mode": {
        "name": "ipython",
        "version": 3
      },
      "file_extension": ".py",
      "mimetype": "text/x-python",
      "name": "python",
      "nbconvert_exporter": "python",
      "pygments_lexer": "ipython3",
      "version": "3.7.4"
    }
  },
  "nbformat": 4,
  "nbformat_minor": 0
}
