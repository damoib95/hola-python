{
 "cells": [
  {
   "cell_type": "markdown",
   "metadata": {
    "id": "vsXbP0NWjrVC"
   },
   "source": [
    "# 1. Introducción\n",
    "\n",
    "## Mi primer programa\n",
    "\n",
    "La función ```print``` permite **desplegar mensajes** en la pantalla.\n"
   ]
  },
  {
   "cell_type": "code",
   "execution_count": 2,
   "metadata": {
    "colab": {
     "base_uri": "https://localhost:8080/",
     "height": 55
    },
    "executionInfo": {
     "elapsed": 429,
     "status": "ok",
     "timestamp": 1595959297930,
     "user": {
      "displayName": "Diego Morales",
      "photoUrl": "https://lh3.googleusercontent.com/a-/AOh14Gi1umqpq867AA17xPSeWgAZYhxsQqK9VVmJvgUW=s64",
      "userId": "14615934830481406908"
     },
     "user_tz": 360
    },
    "id": "USXmcsZ5lNib",
    "outputId": "2f462287-8152-4ab5-9748-adc10dc25335"
   },
   "outputs": [
    {
     "name": "stdout",
     "output_type": "stream",
     "text": [
      "¡Hola, Python! 2024\n"
     ]
    }
   ],
   "source": [
    "print('¡Hola, Python! 2024')"
   ]
  },
  {
   "cell_type": "markdown",
   "metadata": {},
   "source": [
    "> 💡 Es una práctica común crear el código para desplegar un mensaje de *Hello, world!* cuando se aprende un lenguaje nuevo de programación para comprobar que todo se encuentra configurado correctamente."
   ]
  }
 ],
 "metadata": {
  "colab": {
   "authorship_tag": "ABX9TyPqNOqgGrqVmYrO9Aea1lMI",
   "name": "1_MiPrimerPrograma.ipynb",
   "provenance": []
  },
  "kernelspec": {
   "display_name": "Python 3 (ipykernel)",
   "language": "python",
   "name": "python3"
  },
  "language_info": {
   "codemirror_mode": {
    "name": "ipython",
    "version": 3
   },
   "file_extension": ".py",
   "mimetype": "text/x-python",
   "name": "python",
   "nbconvert_exporter": "python",
   "pygments_lexer": "ipython3",
   "version": "3.11.5"
  },
  "vscode": {
   "interpreter": {
    "hash": "31f2aee4e71d21fbe5cf8b01ff0e069b9275f58929596ceb00d14d90e3e16cd6"
   }
  }
 },
 "nbformat": 4,
 "nbformat_minor": 1
}
