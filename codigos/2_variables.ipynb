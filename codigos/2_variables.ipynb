{
 "cells": [
  {
   "cell_type": "markdown",
   "metadata": {
    "id": "yZUalTbMq4UU"
   },
   "source": [
    "# 2. Variables 📦\n",
    "Una variable es un espacio de memoria en el cual podemos almacenar valores. \n",
    "\n",
    "Por ejemplo, en el siguiente código. Se asigna el valor ```4``` a una variable llamada ```x```."
   ]
  },
  {
   "cell_type": "code",
   "execution_count": 1,
   "metadata": {},
   "outputs": [],
   "source": [
    "x = 4"
   ]
  },
  {
   "cell_type": "markdown",
   "metadata": {},
   "source": [
    "## Características\n",
    "\n",
    "Las variables poseen las siguientes características:\n",
    "1.   Puede almacenar distintos tipos de datos.\n",
    "2.   Su valor se puede modificar.\n",
    "3.   Se referencian por un nombre único (idealmente, significativo).\n",
    "\n",
    "Observaciones sobre nombres de variables:\n",
    "1.   Python diferencia entre mayúsculas y minúsculas.\n",
    "2.   No pueden iniciar con números.\n",
    "3.   No pueden contener espacios.\n",
    "4.   No se pueden utilizar **palabras reservadas** (más adelante aprenderemos qué significan).\n"
   ]
  },
  {
   "cell_type": "code",
   "execution_count": 2,
   "metadata": {},
   "outputs": [
    {
     "name": "stdout",
     "output_type": "stream",
     "text": [
      "100\n"
     ]
    }
   ],
   "source": [
    "a = 100\n",
    "print(a)"
   ]
  },
  {
   "cell_type": "markdown",
   "metadata": {},
   "source": [
    "Si asignamos un nuevo valor a la misma variable, el valor anterior es reemplazado."
   ]
  },
  {
   "cell_type": "code",
   "execution_count": 3,
   "metadata": {
    "colab": {
     "base_uri": "https://localhost:8080/",
     "height": 34
    },
    "executionInfo": {
     "elapsed": 473,
     "status": "ok",
     "timestamp": 1596060117049,
     "user": {
      "displayName": "Diego Morales",
      "photoUrl": "https://lh3.googleusercontent.com/a-/AOh14Gi1umqpq867AA17xPSeWgAZYhxsQqK9VVmJvgUW=s64",
      "userId": "14615934830481406908"
     },
     "user_tz": 360
    },
    "id": "jiS6OkIQHDCV",
    "outputId": "cf1c587f-cc16-4057-90a7-dd00f2e1ef50"
   },
   "outputs": [
    {
     "name": "stdout",
     "output_type": "stream",
     "text": [
      "200\n"
     ]
    }
   ],
   "source": [
    "a = 100\n",
    "a = 200\n",
    "print(a)"
   ]
  },
  {
   "cell_type": "markdown",
   "metadata": {},
   "source": [
    "Si se desean crear variables utilizando nombres significativos conformados por varias palabras, se recomienda utilizar la “notación de camello” (*camelCase*):"
   ]
  },
  {
   "cell_type": "code",
   "execution_count": 4,
   "metadata": {
    "colab": {
     "base_uri": "https://localhost:8080/",
     "height": 34
    },
    "executionInfo": {
     "elapsed": 633,
     "status": "ok",
     "timestamp": 1596060291728,
     "user": {
      "displayName": "Diego Morales",
      "photoUrl": "https://lh3.googleusercontent.com/a-/AOh14Gi1umqpq867AA17xPSeWgAZYhxsQqK9VVmJvgUW=s64",
      "userId": "14615934830481406908"
     },
     "user_tz": 360
    },
    "id": "q_SS_iV-WAmw",
    "outputId": "82074fca-e1ae-41fe-a800-f2ee15795677"
   },
   "outputs": [],
   "source": [
    "correoElectronico = 'juan_lopez2020@gmail.com'"
   ]
  },
  {
   "cell_type": "markdown",
   "metadata": {},
   "source": [
    "También pueden separarse las palabras utilizando **guion bajo**, sin embargo, este tipo de notación suele utilizarse para funciones."
   ]
  },
  {
   "cell_type": "code",
   "execution_count": 5,
   "metadata": {
    "colab": {
     "base_uri": "https://localhost:8080/",
     "height": 34
    },
    "executionInfo": {
     "elapsed": 386,
     "status": "ok",
     "timestamp": 1596060373898,
     "user": {
      "displayName": "Diego Morales",
      "photoUrl": "https://lh3.googleusercontent.com/a-/AOh14Gi1umqpq867AA17xPSeWgAZYhxsQqK9VVmJvgUW=s64",
      "userId": "14615934830481406908"
     },
     "user_tz": 360
    },
    "id": "mDY2jN1mWK5c",
    "outputId": "58f5ca19-925c-47d7-a3b3-e09bf8300382"
   },
   "outputs": [],
   "source": [
    "correo_electronico = 'juan_lopez2020@gmail.com'"
   ]
  }
 ],
 "metadata": {
  "colab": {
   "authorship_tag": "ABX9TyM7+YPIx08jQbz2BCn1g/Lw",
   "provenance": []
  },
  "kernelspec": {
   "display_name": "Python 3 (ipykernel)",
   "language": "python",
   "name": "python3"
  },
  "language_info": {
   "codemirror_mode": {
    "name": "ipython",
    "version": 3
   },
   "file_extension": ".py",
   "mimetype": "text/x-python",
   "name": "python",
   "nbconvert_exporter": "python",
   "pygments_lexer": "ipython3",
   "version": "3.9.13"
  }
 },
 "nbformat": 4,
 "nbformat_minor": 1
}
