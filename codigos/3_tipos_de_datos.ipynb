{
 "cells": [
  {
   "cell_type": "markdown",
   "metadata": {
    "id": "yZUalTbMq4UU"
   },
   "source": [
    "# 3. Tipos de datos 🎹\n",
    "\n",
    "Existen una gran cantidad de tipos de datos en Python: *Texto, numéricos, secuencia, mapeos, conjuntos, booleanos, binarios*."
   ]
  },
  {
   "cell_type": "markdown",
   "metadata": {
    "id": "UJUlCh4N0jvu"
   },
   "source": [
    "## Entero (int)\n",
    "Dato numérico utilizado para representar números enteros."
   ]
  },
  {
   "cell_type": "code",
   "execution_count": 1,
   "metadata": {
    "colab": {
     "base_uri": "https://localhost:8080/",
     "height": 34
    },
    "executionInfo": {
     "elapsed": 330,
     "status": "ok",
     "timestamp": 1596060466522,
     "user": {
      "displayName": "Diego Morales",
      "photoUrl": "https://lh3.googleusercontent.com/a-/AOh14Gi1umqpq867AA17xPSeWgAZYhxsQqK9VVmJvgUW=s64",
      "userId": "14615934830481406908"
     },
     "user_tz": 360
    },
    "id": "p5ojuYwVo2IA",
    "outputId": "cd5fa51e-f93e-4cf3-9a80-a3d088600902"
   },
   "outputs": [
    {
     "name": "stdout",
     "output_type": "stream",
     "text": [
      "256\n"
     ]
    }
   ],
   "source": [
    "cantidadAlumnos = 256\n",
    "print(cantidadAlumnos)"
   ]
  },
  {
   "cell_type": "markdown",
   "metadata": {
    "id": "SfjZkgI-0aUj"
   },
   "source": [
    "\n",
    "## Flotante (float)\n",
    "Dato numérico utilizado para representar números reales, es decir, números con cifras decimales."
   ]
  },
  {
   "cell_type": "code",
   "execution_count": 2,
   "metadata": {
    "colab": {
     "base_uri": "https://localhost:8080/",
     "height": 34
    },
    "executionInfo": {
     "elapsed": 362,
     "status": "ok",
     "timestamp": 1596060512664,
     "user": {
      "displayName": "Diego Morales",
      "photoUrl": "https://lh3.googleusercontent.com/a-/AOh14Gi1umqpq867AA17xPSeWgAZYhxsQqK9VVmJvgUW=s64",
      "userId": "14615934830481406908"
     },
     "user_tz": 360
    },
    "id": "eW-_JyTg0n9L",
    "outputId": "9b935f83-8755-47bd-b563-ba5853c14d59"
   },
   "outputs": [
    {
     "name": "stdout",
     "output_type": "stream",
     "text": [
      "1.75\n"
     ]
    }
   ],
   "source": [
    "alturaMetros = 1.75\n",
    "print(alturaMetros)"
   ]
  },
  {
   "cell_type": "markdown",
   "metadata": {
    "id": "LM4Ht_gP0o7q"
   },
   "source": [
    "## Texto (str)\n",
    "Cadena de caracteres: letras, números y símbolos.\n",
    "El valor **se debe colocar dentro de comillas simples o dobles** para indicar que es un ```str```."
   ]
  },
  {
   "cell_type": "code",
   "execution_count": 3,
   "metadata": {
    "colab": {
     "base_uri": "https://localhost:8080/"
    },
    "executionInfo": {
     "elapsed": 7,
     "status": "ok",
     "timestamp": 1679758787938,
     "user": {
      "displayName": "Diego Morales",
      "userId": "14615934830481406908"
     },
     "user_tz": 360
    },
    "id": "EWhncY1D0vTs",
    "outputId": "d03757f1-d182-48a0-f7dd-d21b1b23cf6c"
   },
   "outputs": [
    {
     "name": "stdout",
     "output_type": "stream",
     "text": [
      "The Lord of the Rings: The Return of the King (2003)\n",
      "256\n",
      "1.75\n"
     ]
    }
   ],
   "source": [
    "movie = \"The Lord of the Rings: The Return of the King (2003)\"\n",
    "cantidadAlumnos2 = \"256\"\n",
    "alturaMetros2 = \"1.75\"\n",
    "print(movie)\n",
    "print(cantidadAlumnos2)\n",
    "print(alturaMetros2)"
   ]
  },
  {
   "cell_type": "markdown",
   "metadata": {},
   "source": [
    "> ⚠️ Se debe tener especial cuidado al manejar números representados como cadenas de caracteres ya que Python no los interpretará como valores numéricos (```int``` o ```float```)."
   ]
  },
  {
   "cell_type": "markdown",
   "metadata": {
    "id": "3wOTICQX0vkL"
   },
   "source": [
    "## Función type\n",
    "La función ```type()``` se puede utilizar para conocer el tipo de dato de una variable."
   ]
  },
  {
   "cell_type": "code",
   "execution_count": 4,
   "metadata": {
    "colab": {
     "base_uri": "https://localhost:8080/",
     "height": 51
    },
    "executionInfo": {
     "elapsed": 304,
     "status": "ok",
     "timestamp": 1596060846897,
     "user": {
      "displayName": "Diego Morales",
      "photoUrl": "https://lh3.googleusercontent.com/a-/AOh14Gi1umqpq867AA17xPSeWgAZYhxsQqK9VVmJvgUW=s64",
      "userId": "14615934830481406908"
     },
     "user_tz": 360
    },
    "id": "UbEbXwxt0vsT",
    "outputId": "bdef5443-2ad7-4fb1-e952-de2bd4d4e120"
   },
   "outputs": [
    {
     "name": "stdout",
     "output_type": "stream",
     "text": [
      "<class 'int'>\n",
      "<class 'str'>\n"
     ]
    }
   ],
   "source": [
    "print(type(cantidadAlumnos))\n",
    "print(type(cantidadAlumnos2))"
   ]
  },
  {
   "cell_type": "markdown",
   "metadata": {},
   "source": [
    "## Función input\n",
    "\n",
    "La función `input()` se utiliza para solicitar al usuario una entrada. El programa se detiene, hasta que el usuario presiona la tecla **Enter** en su teclado (luego de escribir el ingreso). Esta función, retorna una cadena de caracteres (`str`) con el ingreso del usuario."
   ]
  },
  {
   "cell_type": "code",
   "execution_count": 5,
   "metadata": {},
   "outputs": [
    {
     "name": "stdout",
     "output_type": "stream",
     "text": [
      "Su nombre es Diego\n"
     ]
    }
   ],
   "source": [
    "nom = input(\"¿Cuál es su nombre? \")\n",
    "print(\"Su nombre es\", nom)"
   ]
  },
  {
   "cell_type": "markdown",
   "metadata": {},
   "source": [
    "Ahora veamos qué sucede si solicitamos al usuario un número que utilizaremos para realizar una operación más adelante."
   ]
  },
  {
   "cell_type": "code",
   "execution_count": 6,
   "metadata": {},
   "outputs": [
    {
     "ename": "TypeError",
     "evalue": "unsupported operand type(s) for -: 'int' and 'str'",
     "output_type": "error",
     "traceback": [
      "\u001b[0;31m---------------------------------------------------------------------------\u001b[0m",
      "\u001b[0;31mTypeError\u001b[0m                                 Traceback (most recent call last)",
      "Cell \u001b[0;32mIn[6], line 2\u001b[0m\n\u001b[1;32m      1\u001b[0m age \u001b[38;5;241m=\u001b[39m \u001b[38;5;28minput\u001b[39m(\u001b[38;5;124m\"\u001b[39m\u001b[38;5;124mIngrese su edad: \u001b[39m\u001b[38;5;124m\"\u001b[39m)\n\u001b[0;32m----> 2\u001b[0m birthYear \u001b[38;5;241m=\u001b[39m \u001b[38;5;241m2024\u001b[39m \u001b[38;5;241m-\u001b[39m age \u001b[38;5;66;03m# no se puede operar un int con un str\u001b[39;00m\n\u001b[1;32m      3\u001b[0m \u001b[38;5;28mprint\u001b[39m(\u001b[38;5;124m\"\u001b[39m\u001b[38;5;124mUsted nació en el año \u001b[39m\u001b[38;5;124m\"\u001b[39m, birthYear)\n",
      "\u001b[0;31mTypeError\u001b[0m: unsupported operand type(s) for -: 'int' and 'str'"
     ]
    }
   ],
   "source": [
    "age = input(\"Ingrese su edad: \")\n",
    "birthYear = 2024 - age # no se puede operar un int con un str\n",
    "print(\"Usted nació en el año \", birthYear)"
   ]
  },
  {
   "cell_type": "markdown",
   "metadata": {},
   "source": [
    "Python nos muestra un mensaje de error (TypeError) debido a que la operación de resta (`-`) no está soportada entre variables numéricas (`int` o `float`) y cadenas de caracteres (`str`).\n",
    "\n",
    "> 👌 Es completamente normal (y esperado) obtener errores al escribir código, incluso para programadores experimentados. Suelen aparecer cuando Python no es capaz de interpretar una instrucción (SintaxError) o porque se está realizando una acción inválida (como la anterior). Lo importante es comprender el error y corregirlo, lo cual será cada vez más sencillo con la práctica.\n",
    "\n",
    "En este caso, podríamos realizar una conversión de datos para que la variable `age` se interprete como un entero."
   ]
  },
  {
   "cell_type": "code",
   "execution_count": 7,
   "metadata": {},
   "outputs": [
    {
     "name": "stdout",
     "output_type": "stream",
     "text": [
      "Usted nació en el año  1996\n"
     ]
    }
   ],
   "source": [
    "age = input(\"Ingrese su edad: \")\n",
    "age = int(age) # conversion a entero (casting)\n",
    "birthYear = 2024 - age\n",
    "print(\"Usted nació en el año \", birthYear)"
   ]
  },
  {
   "cell_type": "markdown",
   "metadata": {},
   "source": [
    "## Conversión de datos\n",
    "\n",
    "Para convertir entre distintos tipos de datos, simplemente debemos especificar el tipo de dato y colocar el valor dentro de paréntesis.\n",
    "\n",
    "1. **int()**\n",
    "2. **float()**\n",
    "3. **str()**\n",
    "\n",
    "Por ejemplo, si queremos convertir una variable **`x = \"99\"`** a un valor numérico."
   ]
  },
  {
   "cell_type": "code",
   "execution_count": 8,
   "metadata": {},
   "outputs": [
    {
     "name": "stdout",
     "output_type": "stream",
     "text": [
      "<class 'str'>\n",
      "<class 'int'>\n"
     ]
    }
   ],
   "source": [
    "x = \"99\"\n",
    "print(type(x))\n",
    "x = int(x)\n",
    "print(type(x))"
   ]
  }
 ],
 "metadata": {
  "colab": {
   "authorship_tag": "ABX9TyM7+YPIx08jQbz2BCn1g/Lw",
   "provenance": []
  },
  "kernelspec": {
   "display_name": "Python 3 (ipykernel)",
   "language": "python",
   "name": "python3"
  },
  "language_info": {
   "codemirror_mode": {
    "name": "ipython",
    "version": 3
   },
   "file_extension": ".py",
   "mimetype": "text/x-python",
   "name": "python",
   "nbconvert_exporter": "python",
   "pygments_lexer": "ipython3",
   "version": "3.11.5"
  }
 },
 "nbformat": 4,
 "nbformat_minor": 1
}
