{
 "cells": [
  {
   "cell_type": "markdown",
   "metadata": {
    "id": "yZUalTbMq4UU"
   },
   "source": [
    "# 4. Operadores Aritméticos🧮\n",
    "\n",
    "Los operadores ariméticos se utilizan para realizar operaciones matemáticas sencillas sobre valores numéricos:\n",
    "\n",
    "1.   Adición\n",
    "2.   Sustracción\n",
    "3.   Multiplicación\n",
    "4.   División\n",
    "5.   Exponenciación\n",
    "6.   División de piso\n",
    "7.   Módulo"
   ]
  },
  {
   "cell_type": "markdown",
   "metadata": {
    "id": "0RVyg8Xi28WZ"
   },
   "source": [
    "## Adición ➕\n",
    "\n",
    "La operación de suma entre un valor ```a``` y un valor ```b``` se realiza utilizando el operador ```+```: $a + b$\n",
    "\n",
    "> 🔗 Se pueden sumar múltiples valores en una misma expresión. Por ejemplo:  $a + b + c + d$"
   ]
  },
  {
   "cell_type": "code",
   "execution_count": 5,
   "metadata": {
    "colab": {
     "base_uri": "https://localhost:8080/"
    },
    "id": "edMZShrq27g2",
    "outputId": "8f01d829-b782-4ff5-bbfe-887481a9e03b"
   },
   "outputs": [
    {
     "data": {
      "text/plain": [
       "817.345"
      ]
     },
     "execution_count": 5,
     "metadata": {},
     "output_type": "execute_result"
    }
   ],
   "source": [
    "100 + 717.345 + 0"
   ]
  },
  {
   "cell_type": "markdown",
   "metadata": {
    "id": "PI3w0yhC9nG1"
   },
   "source": [
    "##  Sustracción ➖\n",
    "\n",
    "La operación de resta entre un valor ```a``` y un valor ```b``` se realiza utilizando el operador ```-```: $a - b$\n",
    "\n",
    "> 💻 Nótese que la siguiente operación debería dar un resultado exacto, sin embargo, las computadoras manejan \"números de punto flotante\" los cuales no poseen una representación binaria de valores limitada y podrían mostrar valores poco precisos."
   ]
  },
  {
   "cell_type": "code",
   "execution_count": 26,
   "metadata": {
    "colab": {
     "base_uri": "https://localhost:8080/"
    },
    "id": "txT4u_G-9qO-",
    "outputId": "1141d103-7ef1-44e2-b065-60457b582385"
   },
   "outputs": [
    {
     "data": {
      "text/plain": [
       "-50.00000000000001"
      ]
     },
     "execution_count": 26,
     "metadata": {},
     "output_type": "execute_result"
    }
   ],
   "source": [
    "55.54 - 105.54"
   ]
  },
  {
   "cell_type": "markdown",
   "metadata": {
    "id": "LiuT5lJI9vNq"
   },
   "source": [
    "## Multiplicación\n",
    "\n",
    "Para multiplicar un número **a** y un número **b**, se utiliza el operador **\\***.\n",
    "\n",
    "$a * b$"
   ]
  },
  {
   "cell_type": "code",
   "execution_count": null,
   "metadata": {
    "colab": {
     "base_uri": "https://localhost:8080/"
    },
    "id": "vphI0GFa9vgi",
    "outputId": "4bf71614-c45e-41ae-bd4a-c2c37dd8379c"
   },
   "outputs": [
    {
     "data": {
      "text/plain": [
       "14"
      ]
     },
     "execution_count": 7,
     "metadata": {},
     "output_type": "execute_result"
    }
   ],
   "source": [
    "7*2"
   ]
  },
  {
   "cell_type": "markdown",
   "metadata": {
    "id": "vhWebRB09vqi"
   },
   "source": [
    "## División\n",
    "\n",
    "Para dividir un número **a** y un número **b**, se utiliza el operador **/**.\n",
    "\n",
    "$\\frac{a}{b}$"
   ]
  },
  {
   "cell_type": "code",
   "execution_count": null,
   "metadata": {
    "colab": {
     "base_uri": "https://localhost:8080/"
    },
    "id": "OXhu4uFM9vyS",
    "outputId": "365164d8-637a-42ca-c5f3-f00924d64a79"
   },
   "outputs": [
    {
     "data": {
      "text/plain": [
       "7.5"
      ]
     },
     "execution_count": 8,
     "metadata": {},
     "output_type": "execute_result"
    }
   ],
   "source": [
    "15/2"
   ]
  },
  {
   "cell_type": "markdown",
   "metadata": {
    "id": "JJTZlmQ_A0Iq"
   },
   "source": [
    "## Exponenciación\n",
    "\n",
    "Para elevar un número **a** al exponente de un número **b**, se utiliza el operador **\\****.\n",
    "\n",
    "$a^b$"
   ]
  },
  {
   "cell_type": "code",
   "execution_count": null,
   "metadata": {
    "colab": {
     "base_uri": "https://localhost:8080/"
    },
    "id": "Xo_mP-CDA0hn",
    "outputId": "0c1310b9-90a5-4dfb-eb69-0cedcd665dd0"
   },
   "outputs": [
    {
     "data": {
      "text/plain": [
       "8"
      ]
     },
     "execution_count": 9,
     "metadata": {},
     "output_type": "execute_result"
    }
   ],
   "source": [
    "2**3"
   ]
  },
  {
   "cell_type": "markdown",
   "metadata": {
    "id": "F6b-F--eFHPL"
   },
   "source": [
    "## Módulo\n",
    "Para obtener el residuo de la división de un número **a** y un número **b**, se utiliza el operador **%**."
   ]
  },
  {
   "cell_type": "code",
   "execution_count": null,
   "metadata": {
    "colab": {
     "base_uri": "https://localhost:8080/"
    },
    "id": "F3WDai9KFtwH",
    "outputId": "22cc3a4e-0bfa-44ab-a35a-896ee8f82c75"
   },
   "outputs": [
    {
     "data": {
      "text/plain": [
       "0"
      ]
     },
     "execution_count": 17,
     "metadata": {},
     "output_type": "execute_result"
    }
   ],
   "source": [
    "6%6"
   ]
  },
  {
   "cell_type": "code",
   "execution_count": null,
   "metadata": {
    "colab": {
     "base_uri": "https://localhost:8080/"
    },
    "id": "t--YhziPnreS",
    "outputId": "3c6f4187-cde3-4eb8-ee8f-b36a6240fe7b"
   },
   "outputs": [
    {
     "data": {
      "text/plain": [
       "1"
      ]
     },
     "execution_count": 18,
     "metadata": {},
     "output_type": "execute_result"
    }
   ],
   "source": [
    "7%6"
   ]
  },
  {
   "cell_type": "markdown",
   "metadata": {
    "id": "cGnf65waFwlp"
   },
   "source": [
    "## División de piso\n",
    "Para obtener la división de piso de un número **a** y un número **b**, se utiliza el operador **//**.\n",
    "\n",
    "Funciona de forma similar a la división normal, con la diferencia que retorna un número entero e ignora la parte decimal."
   ]
  },
  {
   "cell_type": "code",
   "execution_count": null,
   "metadata": {
    "colab": {
     "base_uri": "https://localhost:8080/"
    },
    "id": "jiS6OkIQHDCV",
    "outputId": "10c1e96d-8cdf-4013-e7a5-ec17566961da"
   },
   "outputs": [
    {
     "data": {
      "text/plain": [
       "3"
      ]
     },
     "execution_count": 20,
     "metadata": {},
     "output_type": "execute_result"
    }
   ],
   "source": [
    "10//3"
   ]
  },
  {
   "cell_type": "markdown",
   "metadata": {
    "id": "PipFaYpjVTFM"
   },
   "source": [
    "## Jerarquía de operaciones\n",
    "Es importante tener en cuenta la jerarquía de operaciones al utilizar varios operadores aritméticos en una misma expresión.\n",
    "\n",
    "Las operaciones se efectúan en el siguiente orden:\n",
    "1.   Expresiones dentro de paréntesis: ()\n",
    "2.   Exponente: **\n",
    "3.   Multiplicación, División, División entera, Módulo: *, /, //, %\n",
    "4.   Suma, Resta: +, -\n",
    "\n",
    "### Ejemplo\n",
    "\n",
    "Si quisieramos convertir 100°F a °C. Se utilizaría la siguiente expresión:\n",
    "\n",
    "$(100 - 32) * 5/9$\n",
    "\n",
    "Siguiendo la jerarquía de operaciones, se realizan de la siguiente manera:\n",
    "\n",
    "*   $(100 - 32) * 5/9$\n",
    "*   $(68) * 5/9$\n",
    "*   $37.78$\n",
    "\n",
    "\n",
    "Si no se hubieran colocado los paréntesis, obtendríamos un resultado erróneo:\n",
    "*   $100 - 32 * 5/9$\n",
    "*   $100 - 32 * 0.5556$\n",
    "*   $100 - 17.78$\n",
    "*   $82.22$"
   ]
  },
  {
   "cell_type": "code",
   "execution_count": null,
   "metadata": {
    "colab": {
     "base_uri": "https://localhost:8080/"
    },
    "id": "hDJpiJ-tCf9-",
    "outputId": "aba5a7f6-e1b0-429b-b3d8-63a6e941322f"
   },
   "outputs": [
    {
     "data": {
      "text/plain": [
       "37.77777777777778"
      ]
     },
     "execution_count": 21,
     "metadata": {},
     "output_type": "execute_result"
    }
   ],
   "source": [
    "(100 - 32) * 5/9"
   ]
  },
  {
   "cell_type": "code",
   "execution_count": null,
   "metadata": {
    "colab": {
     "base_uri": "https://localhost:8080/"
    },
    "id": "VaotAUF4C36D",
    "outputId": "a50fd4af-3e82-4d4d-8964-1b0958b327f4"
   },
   "outputs": [
    {
     "data": {
      "text/plain": [
       "82.22222222222223"
      ]
     },
     "execution_count": 22,
     "metadata": {},
     "output_type": "execute_result"
    }
   ],
   "source": [
    "100 - 32 * 5/9"
   ]
  },
  {
   "cell_type": "code",
   "execution_count": null,
   "metadata": {
    "id": "INYOi24QE2gh"
   },
   "outputs": [],
   "source": []
  }
 ],
 "metadata": {
  "colab": {
   "provenance": []
  },
  "kernelspec": {
   "display_name": "Python 3 (ipykernel)",
   "language": "python",
   "name": "python3"
  },
  "language_info": {
   "codemirror_mode": {
    "name": "ipython",
    "version": 3
   },
   "file_extension": ".py",
   "mimetype": "text/x-python",
   "name": "python",
   "nbconvert_exporter": "python",
   "pygments_lexer": "ipython3",
   "version": "3.11.5"
  }
 },
 "nbformat": 4,
 "nbformat_minor": 1
}
