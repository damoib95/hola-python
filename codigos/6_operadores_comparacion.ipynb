{
  "cells": [
    {
      "cell_type": "markdown",
      "metadata": {
        "id": "yZUalTbMq4UU"
      },
      "source": [
        "# 6. Operadores de comparación\n",
        "\n",
        "Los operadores de comparación se utilizan para comparar dos operandos. El resultado de la operación retornará un valor booleano (```True``` o ```False```).\n",
        "\n",
        "Las comparaciones que se pueden realizar son las siguientes:\n",
        "\n",
        "1. Igualdad: ```==```\n",
        "2. Desigualdad: ```!=```\n",
        "3. Menor que: ```<```\n",
        "4. Mayor que: ```>```\n",
        "5. Menor o igual que: ```<=```\n",
        "6. Mayor o igual que: ```>=```"
      ]
    },
    {
      "cell_type": "markdown",
      "metadata": {
        "id": "FdmODc_VFA4k"
      },
      "source": [
        "## Igualdad\n",
        "\n",
        "Si el operando de la **izquierda** es igual al operando de la **derecha**, entonces, el resultado es ```True```. De lo contrario, es ```False```.\n",
        "\n",
        "Por ejemplo, podríamos crear las siguientes variables."
      ]
    },
    {
      "cell_type": "code",
      "execution_count": 1,
      "metadata": {
        "id": "Y8UQq-d-Xdkc"
      },
      "outputs": [],
      "source": [
        "a = 5\n",
        "b = 7\n",
        "c = 5"
      ]
    },
    {
      "cell_type": "markdown",
      "metadata": {
        "id": "XQfKK0gaXfXi"
      },
      "source": [
        "Al evaluar la igualdad entre ```a``` y ```b```, lo escribiríamos de la siguiente manera y obtendríamos un resultado ```True```."
      ]
    },
    {
      "cell_type": "code",
      "execution_count": 2,
      "metadata": {
        "colab": {
          "base_uri": "https://localhost:8080/"
        },
        "id": "zDmGIbg8FMSi",
        "outputId": "bd53d720-5af6-4f6a-9e5a-6732bef39856"
      },
      "outputs": [
        {
          "data": {
            "text/plain": [
              "False"
            ]
          },
          "execution_count": 2,
          "metadata": {},
          "output_type": "execute_result"
        }
      ],
      "source": [
        "a == b"
      ]
    },
    {
      "cell_type": "markdown",
      "metadata": {
        "id": "jzXbOWfiX9bx"
      },
      "source": [
        "> ↔️ Nótese que el resultado es el mismo si hubiéramos escrito los operandos al revés, es decir, ```b == a```.\n",
        "\n",
        "Si ahora evaluamos la igualdad entre ```a``` y ```c```, el resultado será ```False```."
      ]
    },
    {
      "cell_type": "code",
      "execution_count": 4,
      "metadata": {
        "colab": {
          "base_uri": "https://localhost:8080/"
        },
        "id": "X1gkScIAFWP6",
        "outputId": "fbc02d7c-ccf7-478c-f039-37d04c8c7a35"
      },
      "outputs": [
        {
          "data": {
            "text/plain": [
              "True"
            ]
          },
          "execution_count": 4,
          "metadata": {},
          "output_type": "execute_result"
        }
      ],
      "source": [
        "a == c"
      ]
    },
    {
      "cell_type": "markdown",
      "metadata": {
        "id": "EeMzcfoHbGXu"
      },
      "source": [
        "Finalmente, creamos una variable de tipo ```str``` con el valor de ```'5'``` y comparamos si es igual a la variable ```a```."
      ]
    },
    {
      "cell_type": "code",
      "execution_count": 7,
      "metadata": {
        "colab": {
          "base_uri": "https://localhost:8080/"
        },
        "id": "y68gZ884bV0s",
        "outputId": "8f9fb3e4-bea2-4267-b630-365fbb0e4011"
      },
      "outputs": [
        {
          "data": {
            "text/plain": [
              "False"
            ]
          },
          "execution_count": 7,
          "metadata": {},
          "output_type": "execute_result"
        }
      ],
      "source": [
        "d = '5'\n",
        "d == a"
      ]
    },
    {
      "cell_type": "markdown",
      "metadata": {
        "id": "8RZxDoDybZGU"
      },
      "source": [
        "A simple vista, los valores de cada variable son idénticos. Sin embargo, Python no considera iguales los valores numéricos al compararse con un número representado como ```str```.\n",
        "\n",
        "> ⛓️ Importante asegurarse que al realizar comparaciones las condiciones de cada variable sean lo más similares posibles. Por ejemplo, el código anterior se podría comparar perfectamente si realizamos un _casting_ a entero: ```int(d)```"
      ]
    },
    {
      "cell_type": "code",
      "execution_count": 8,
      "metadata": {
        "colab": {
          "base_uri": "https://localhost:8080/"
        },
        "id": "2HIQ-b1xc48j",
        "outputId": "bd30e677-a8a5-41ad-ba1b-44eaecc9c0a7"
      },
      "outputs": [
        {
          "data": {
            "text/plain": [
              "True"
            ]
          },
          "execution_count": 8,
          "metadata": {},
          "output_type": "execute_result"
        }
      ],
      "source": [
        "int(d) == a"
      ]
    },
    {
      "cell_type": "markdown",
      "metadata": {
        "id": "mvGOZtMQFd1E"
      },
      "source": [
        "## Desigualdad\n",
        "\n",
        "Si el operando de la **izquierda** no es igual al operando de la **derecha**, entonces, el resultado es ```True```. De lo contrario, es ```False```.\n",
        "\n",
        "Ejemplifiquemos este operador comparando directamente valores literales en lugar de variables."
      ]
    },
    {
      "cell_type": "code",
      "execution_count": 10,
      "metadata": {
        "colab": {
          "base_uri": "https://localhost:8080/"
        },
        "id": "yxCnWAxCFkya",
        "outputId": "af9a8bcb-4838-458e-e0aa-f647a7ec9e41"
      },
      "outputs": [
        {
          "data": {
            "text/plain": [
              "True"
            ]
          },
          "execution_count": 10,
          "metadata": {},
          "output_type": "execute_result"
        }
      ],
      "source": [
        "'Diego' != 'Alberto'"
      ]
    },
    {
      "cell_type": "code",
      "execution_count": 11,
      "metadata": {
        "colab": {
          "base_uri": "https://localhost:8080/"
        },
        "id": "4BWevLeLGBSE",
        "outputId": "1bce9567-b184-449f-fc30-70e35e6c36b5"
      },
      "outputs": [
        {
          "data": {
            "text/plain": [
              "False"
            ]
          },
          "execution_count": 11,
          "metadata": {},
          "output_type": "execute_result"
        }
      ],
      "source": [
        "'Diego' != 'Diego'"
      ]
    },
    {
      "cell_type": "markdown",
      "metadata": {
        "id": "rBRw3jBAemRU"
      },
      "source": [
        "Ahora evalúemos la igualdad entre dos cadenas aparentemente idénticas pero que difieren por el uso de mayúsculas."
      ]
    },
    {
      "cell_type": "code",
      "execution_count": 12,
      "metadata": {
        "colab": {
          "base_uri": "https://localhost:8080/"
        },
        "id": "eTDOhe3zOoL7",
        "outputId": "ba9785bb-3ca9-40da-cff9-ee68781570ca"
      },
      "outputs": [
        {
          "data": {
            "text/plain": [
              "True"
            ]
          },
          "execution_count": 12,
          "metadata": {},
          "output_type": "execute_result"
        }
      ],
      "source": [
        "'Alberto' != 'alberto'"
      ]
    },
    {
      "cell_type": "markdown",
      "metadata": {
        "id": "oyTGh9h2e1JL"
      },
      "source": [
        "Python no considera igual el caracter ```A``` y la ```a```. Por lo tanto, las cadenas anteriores son diferentes. Nuevamente, es importante tener cuidado al realizar comparaciones que los operandos se encuentren en condiciones similares.\n",
        "\n",
        "\n",
        "También tomar en consideración que cualquier caracterer adicional, podría afectar nuestra comparación. Por ejemplo, veamos que si comparamos dos cadenas iguales pero colocamos un espacio adicional en una de ellas, entonces, los ```str``` se considerarían **no iguales**."
      ]
    },
    {
      "cell_type": "code",
      "execution_count": 13,
      "metadata": {
        "colab": {
          "base_uri": "https://localhost:8080/"
        },
        "id": "QksyxSK1fbEr",
        "outputId": "6003ad59-491a-4395-c7c2-cf4db39e7a3f"
      },
      "outputs": [
        {
          "data": {
            "text/plain": [
              "True"
            ]
          },
          "execution_count": 13,
          "metadata": {},
          "output_type": "execute_result"
        }
      ],
      "source": [
        "'Diego' != 'Diego '"
      ]
    },
    {
      "cell_type": "markdown",
      "metadata": {
        "id": "KiwPlLCkGbD_"
      },
      "source": [
        "## Menor que\n",
        "\n",
        "Si el operador de la **izquierda** es menor que el de la **derecha**, entonces, el resultado es ```True```. De lo contrario, es ```False```.\n",
        "\n",
        "## Mayor que\n",
        "\n",
        "Si el operador de la **izquierda** es mayor que el de la **derecha**, entonces, el resultado es ```True```. De lo contrario, es ```False```.\n",
        "\n",
        "Para los siguientes ejemplos, definiremos variables que contienen la edad de tres personas."
      ]
    },
    {
      "cell_type": "code",
      "execution_count": 38,
      "metadata": {
        "id": "HNHCTtX5Gob0"
      },
      "outputs": [],
      "source": [
        "edad_1 = 7\n",
        "edad_2 = 16\n",
        "edad_3 = 33"
      ]
    },
    {
      "cell_type": "markdown",
      "metadata": {
        "id": "hR2vf74ml4zu"
      },
      "source": [
        "Ahora, comparemos las edades de las personas. Primero, evaluamos si la edad de la persona 1 es menor yor que la edad de la persona 2."
      ]
    },
    {
      "cell_type": "code",
      "execution_count": 39,
      "metadata": {
        "colab": {
          "base_uri": "https://localhost:8080/"
        },
        "id": "3_W1KYDelZP7",
        "outputId": "4256aab6-fb2a-4110-9db7-6670a8dc4eae"
      },
      "outputs": [
        {
          "data": {
            "text/plain": [
              "True"
            ]
          },
          "execution_count": 39,
          "metadata": {},
          "output_type": "execute_result"
        }
      ],
      "source": [
        "edad_1 < edad_2"
      ]
    },
    {
      "cell_type": "markdown",
      "metadata": {
        "id": "Ggm3BfejmJM1"
      },
      "source": [
        "Luego, evaluemos si la edad de la persona 3 es mayor que la de la persona 2."
      ]
    },
    {
      "cell_type": "code",
      "execution_count": 41,
      "metadata": {
        "colab": {
          "base_uri": "https://localhost:8080/"
        },
        "id": "INoBstB_G0PC",
        "outputId": "edca45fb-749f-458d-dafc-f87cb72e136f"
      },
      "outputs": [
        {
          "data": {
            "text/plain": [
              "True"
            ]
          },
          "execution_count": 41,
          "metadata": {},
          "output_type": "execute_result"
        }
      ],
      "source": [
        "edad_3 > edad_2"
      ]
    },
    {
      "cell_type": "markdown",
      "metadata": {
        "id": "ZNwW-dIcHOiY"
      },
      "source": [
        "## Menor o igual que\n",
        "Si el operador de la **izquierda** es menor o igual que el de la **derecha**, entonces, la condición es ```True```. De lo contrario, es ```False```.\n",
        "\n",
        "## Mayor o igual que\n",
        "Si el operador de la **izquierda** es mayor o igual que el de la **derecha**, entonces, la condición es ```True```. De lo contrario, es ```False```.\n",
        "\n",
        "A continuación, crearemos variables con notas de estudiantes."
      ]
    },
    {
      "cell_type": "code",
      "execution_count": 42,
      "metadata": {
        "id": "elLebZwoHnJV"
      },
      "outputs": [],
      "source": [
        "notaLuis = 5.9\n",
        "notaMaria = 7.8\n",
        "notaIsa = 6.0"
      ]
    },
    {
      "cell_type": "markdown",
      "metadata": {
        "id": "nbfNYbFR-RT5"
      },
      "source": [
        "Utilizaremos los operadores para evaluar si los estudiantes aprobaron el curso. Se sabe que la nota mínima debe ser de 6.0"
      ]
    },
    {
      "cell_type": "code",
      "execution_count": 43,
      "metadata": {
        "colab": {
          "base_uri": "https://localhost:8080/"
        },
        "id": "pFzk9C1o-Q5u",
        "outputId": "1816c448-f036-46d3-b1c0-c927f0d6da3e"
      },
      "outputs": [
        {
          "data": {
            "text/plain": [
              "False"
            ]
          },
          "execution_count": 43,
          "metadata": {},
          "output_type": "execute_result"
        }
      ],
      "source": [
        "notaLuis >= 6.0"
      ]
    },
    {
      "cell_type": "code",
      "execution_count": 44,
      "metadata": {
        "colab": {
          "base_uri": "https://localhost:8080/"
        },
        "id": "YJjkAXmdHyqD",
        "outputId": "007c2406-73f7-49f4-e16a-0c197a1f5974"
      },
      "outputs": [
        {
          "data": {
            "text/plain": [
              "True"
            ]
          },
          "execution_count": 44,
          "metadata": {},
          "output_type": "execute_result"
        }
      ],
      "source": [
        "notaMaria>= 6.0"
      ]
    },
    {
      "cell_type": "code",
      "execution_count": 45,
      "metadata": {
        "colab": {
          "base_uri": "https://localhost:8080/"
        },
        "id": "OAC_tT2WIEKC",
        "outputId": "7d2377fa-0234-48b7-98bf-9199ca35c51e"
      },
      "outputs": [
        {
          "data": {
            "text/plain": [
              "True"
            ]
          },
          "execution_count": 45,
          "metadata": {},
          "output_type": "execute_result"
        }
      ],
      "source": [
        "notaIsa>= 6.0"
      ]
    },
    {
      "cell_type": "markdown",
      "metadata": {
        "id": "0ZuvFHTX-jhs"
      },
      "source": [
        "> ⚖️ Los comparadores anteriores se utilizan para realizar evaluar rangos de valores numéricos. No se recomienda su uso para comparar cadenas de caracteres.\n",
        "\n",
        "Veamos la siguiente comparación."
      ]
    },
    {
      "cell_type": "code",
      "execution_count": 46,
      "metadata": {
        "colab": {
          "base_uri": "https://localhost:8080/"
        },
        "id": "cRb_Syrl_Llh",
        "outputId": "50235ddd-8656-4f5d-d43e-9b768884c92e"
      },
      "outputs": [
        {
          "data": {
            "text/plain": [
              "False"
            ]
          },
          "execution_count": 46,
          "metadata": {},
          "output_type": "execute_result"
        }
      ],
      "source": [
        "'100' > '42'"
      ]
    },
    {
      "cell_type": "markdown",
      "metadata": {
        "id": "y_akg0jx_SNb"
      },
      "source": [
        "Del ejemplo anterior, podemos observar que las comparaciones de números representados por ```str``` no funcionan de la misma forma que con valores numéricos en ```int``` o ```float```. Incluso podríamos intentar hacer comparaciones entre textos."
      ]
    },
    {
      "cell_type": "code",
      "execution_count": 47,
      "metadata": {
        "colab": {
          "base_uri": "https://localhost:8080/"
        },
        "id": "MoF0mCoj_Qle",
        "outputId": "503c38d3-eed2-429f-e858-5d9ae90e5a74"
      },
      "outputs": [
        {
          "data": {
            "text/plain": [
              "True"
            ]
          },
          "execution_count": 47,
          "metadata": {},
          "output_type": "execute_result"
        }
      ],
      "source": [
        "'pequeño' > 'grande'"
      ]
    },
    {
      "cell_type": "markdown",
      "metadata": {
        "id": "0gFU4I-h_p0l"
      },
      "source": [
        "El resultado parece no tener ningún sentido lógico, sin embargo, Python no es capaz de reconocer que el significado de un ```str```. Realmente, al comparar cadenas de caracteres de esta manera lo que se realiza es una comparación lexicográfica. Es decir, se compara la representación numérica de cada caracter.\n",
        "\n",
        "Por ejemplo, el caracter ```a``` se representa por el valor decimal 97, mientras que el caracter ```b``` se representa por el valor decimal 98. Por eso al realizar la siguiente comparación obtendremos ```True```. Ya que es equivalente a comparar ```97 < 98```."
      ]
    },
    {
      "cell_type": "code",
      "execution_count": 54,
      "metadata": {
        "colab": {
          "base_uri": "https://localhost:8080/"
        },
        "id": "YuwuJmZ3_onF",
        "outputId": "07091906-c8b1-4604-d28c-922bf9758094"
      },
      "outputs": [
        {
          "data": {
            "text/plain": [
              "True"
            ]
          },
          "execution_count": 54,
          "metadata": {},
          "output_type": "execute_result"
        }
      ],
      "source": [
        "'a' < 'b'"
      ]
    },
    {
      "cell_type": "markdown",
      "metadata": {
        "id": "P4eEyIdCAjne"
      },
      "source": [
        "¿Qué sucede cuando tenemos una cadena con más de un caracter? En este caso, se realiza la misma comparación mencionada anteriormente pero, caracter por caracter, hasta encontrar un caracter distinto. Por eso, al comparar si ```caza``` es mayor a ```casa```, obtendremos ```True```."
      ]
    },
    {
      "cell_type": "code",
      "execution_count": 55,
      "metadata": {
        "colab": {
          "base_uri": "https://localhost:8080/"
        },
        "id": "4iyChpO1AR4G",
        "outputId": "5c100b59-b9db-4075-9329-cb516878aaf3"
      },
      "outputs": [
        {
          "data": {
            "text/plain": [
              "True"
            ]
          },
          "execution_count": 55,
          "metadata": {},
          "output_type": "execute_result"
        }
      ],
      "source": [
        "'caza' > 'casa'"
      ]
    }
  ],
  "metadata": {
    "colab": {
      "provenance": []
    },
    "kernelspec": {
      "display_name": "Python 3",
      "name": "python3"
    }
  },
  "nbformat": 4,
  "nbformat_minor": 0
}
