{
  "cells": [
    {
      "cell_type": "markdown",
      "metadata": {
        "id": "GHHvRnaCINp3"
      },
      "source": [
        "# 7. Operadores Lógicos\n",
        "\n",
        "Los operadores lógicos se utilizan para evaluar combinaciones lógicas. Generalmente, se utilizan en conjunto con los operadores de comparación para evaluar varias condiciones. Su funcionamiento es idéntico a las Tablas de Verdad que se suelen aprender en cursos de Matemáticas.\n",
        "\n",
        "Los operadores disponibles son:\n",
        "\n",
        "1. ```and```\n",
        "2. ```or```\n",
        "3. ```not```\n"
      ]
    },
    {
      "cell_type": "markdown",
      "metadata": {
        "id": "2LG-iLI7IitQ"
      },
      "source": [
        "## and\n",
        "\n",
        "Si ambos operandos son ```True```, entonces, el resultado es ```True```. También se podría interpretar de la siguiente manera: si por lo menos uno de los operandos es ```False```, entonces, el resultado es ```False```. Corresponde al operador de Conjunción. Su tabla de verdad es la siguiente.\n",
        "\n",
        "| a     | b     |  a and b |\n",
        "|-------|-------|-----------|\n",
        "| False | False | False     |\n",
        "| False | True  | False     |\n",
        "| True  | False | False     |\n",
        "| True  | True  | True      |\n",
        "\n",
        "Iniciemos creando variables para representar la calificación de tres películas."
      ]
    },
    {
      "cell_type": "code",
      "execution_count": 1,
      "metadata": {
        "id": "T5s3GiPIIro6"
      },
      "outputs": [],
      "source": [
        "the_dark_knight = 9.0\n",
        "interstellar = 8.7\n",
        "inception = 8.8"
      ]
    },
    {
      "cell_type": "markdown",
      "metadata": {
        "id": "lPwDFlLBG3np"
      },
      "source": [
        "Si quisieramos evaluar si ```the_dark_knight``` tiene una puntuación mayor que las otras dos, se podría sugerir realizar la comparación de la siguiente manera lógica."
      ]
    },
    {
      "cell_type": "code",
      "execution_count": 2,
      "metadata": {
        "colab": {
          "base_uri": "https://localhost:8080/"
        },
        "id": "YUy45bnnHMwI",
        "outputId": "57421638-756e-4229-b6d2-f0c0f9860251"
      },
      "outputs": [
        {
          "data": {
            "text/plain": [
              "False"
            ]
          },
          "execution_count": 2,
          "metadata": {},
          "output_type": "execute_result"
        }
      ],
      "source": [
        "the_dark_knight > interstellar > inception"
      ]
    },
    {
      "cell_type": "markdown",
      "metadata": {
        "id": "InzMDsA4HQ4t"
      },
      "source": [
        "Sin embargo, no obtendríamos el resultado esperado. En este caso, al concatenar el operador de comparación ```>```, Python evalúa que ```the_dark_knight``` sea mayor que ```interstellar```, y luego, que ```interstellar``` sea mayor que ```inception```. Por esta razón obtenemos ```False```.\n",
        "\n",
        "Por lo tanto, si lo que queremos evaluar realmente es si el valor de ```the_dark_knight``` es mayor a los otros dos, entonces, podríamos utilizar el operador ```and``` de la siguiente manera."
      ]
    },
    {
      "cell_type": "code",
      "execution_count": 3,
      "metadata": {
        "colab": {
          "base_uri": "https://localhost:8080/"
        },
        "id": "r3kN9dz8JatE",
        "outputId": "02532f58-f87d-4c04-b7a7-caca91133731"
      },
      "outputs": [
        {
          "data": {
            "text/plain": [
              "True"
            ]
          },
          "execution_count": 3,
          "metadata": {},
          "output_type": "execute_result"
        }
      ],
      "source": [
        "the_dark_knight > interstellar and the_dark_knight > inception"
      ]
    },
    {
      "cell_type": "markdown",
      "metadata": {
        "id": "uB3yte7qKBiV"
      },
      "source": [
        "A continuación, realizaremos las operaciones de la línea anterior de forma independiente para comprender cómo funciona realmente. Primero, se realizan las operaciones comparativas. Observamos que el resultado de cada comparación devuelve un resultado ```True```."
      ]
    },
    {
      "cell_type": "code",
      "execution_count": 6,
      "metadata": {
        "colab": {
          "base_uri": "https://localhost:8080/"
        },
        "id": "PnMcWGQgKTpO",
        "outputId": "16d1b335-cbc8-4fbd-81de-3bf87daac774"
      },
      "outputs": [
        {
          "data": {
            "text/plain": [
              "True"
            ]
          },
          "execution_count": 6,
          "metadata": {},
          "output_type": "execute_result"
        }
      ],
      "source": [
        "the_dark_knight > interstellar"
      ]
    },
    {
      "cell_type": "code",
      "execution_count": 7,
      "metadata": {
        "colab": {
          "base_uri": "https://localhost:8080/"
        },
        "id": "MmIJu4HTKTrz",
        "outputId": "996885ba-dbf2-4069-cf91-d18d443830d2"
      },
      "outputs": [
        {
          "data": {
            "text/plain": [
              "True"
            ]
          },
          "execution_count": 7,
          "metadata": {},
          "output_type": "execute_result"
        }
      ],
      "source": [
        "the_dark_knight > inception"
      ]
    },
    {
      "cell_type": "markdown",
      "metadata": {
        "id": "jaczEbPbKXAt"
      },
      "source": [
        "Luego, se realiza la operación lógica. En este caso, realizaremos la operación ```and``` directamente con los valores que nos devolvieron las comparaciones anteriores."
      ]
    },
    {
      "cell_type": "code",
      "execution_count": 8,
      "metadata": {
        "colab": {
          "base_uri": "https://localhost:8080/"
        },
        "id": "Ok10A_uZKTt4",
        "outputId": "ab2a390f-d3d4-48ca-d94e-a809a66291a8"
      },
      "outputs": [
        {
          "data": {
            "text/plain": [
              "True"
            ]
          },
          "execution_count": 8,
          "metadata": {},
          "output_type": "execute_result"
        }
      ],
      "source": [
        "True and True"
      ]
    },
    {
      "cell_type": "markdown",
      "metadata": {
        "id": "SFB5Zho-K8Vi"
      },
      "source": [
        "El resultado coincide con lo mostrado en la tabla de verdad para la conjunción."
      ]
    },
    {
      "cell_type": "markdown",
      "metadata": {
        "id": "3FGJl-a9JX0X"
      },
      "source": [
        "> Nótese que es necesario realizar la comparación contra cada película de forma independiente. Un error bastante común consiste en realizar la operación de la siguiente manera, lo cual produciría un resultado incorrecto o carente de sentido lógico."
      ]
    },
    {
      "cell_type": "code",
      "execution_count": 5,
      "metadata": {
        "colab": {
          "base_uri": "https://localhost:8080/"
        },
        "id": "X6ozWBPVJsV6",
        "outputId": "2b2c603d-6772-4ea8-aac6-bdc91ac0a851"
      },
      "outputs": [
        {
          "data": {
            "text/plain": [
              "8.8"
            ]
          },
          "execution_count": 5,
          "metadata": {},
          "output_type": "execute_result"
        }
      ],
      "source": [
        "the_dark_knight > interstellar and inception"
      ]
    },
    {
      "cell_type": "markdown",
      "metadata": {
        "id": "uILVTYJcLHsq"
      },
      "source": [
        "En la expresión anterior, se inicia realizando la comparación."
      ]
    },
    {
      "cell_type": "code",
      "execution_count": 9,
      "metadata": {
        "colab": {
          "base_uri": "https://localhost:8080/"
        },
        "id": "5EfrdSF3LaLL",
        "outputId": "328bd3d2-60a1-4db3-dcbc-c52f33d9a014"
      },
      "outputs": [
        {
          "data": {
            "text/plain": [
              "True"
            ]
          },
          "execution_count": 9,
          "metadata": {},
          "output_type": "execute_result"
        }
      ],
      "source": [
        "the_dark_knight > interstellar"
      ]
    },
    {
      "cell_type": "markdown",
      "metadata": {
        "id": "QhE3C0DoLbzo"
      },
      "source": [
        "Pero luego, al evaluar el operador lógico, realmente se está realizando la siguiente expresión."
      ]
    },
    {
      "cell_type": "code",
      "execution_count": 12,
      "metadata": {
        "colab": {
          "base_uri": "https://localhost:8080/"
        },
        "id": "_cQJGo4qLnZN",
        "outputId": "a81c2bb5-52be-4193-96e1-a11ca34c9f07"
      },
      "outputs": [
        {
          "data": {
            "text/plain": [
              "8.8"
            ]
          },
          "execution_count": 12,
          "metadata": {},
          "output_type": "execute_result"
        }
      ],
      "source": [
        "True and inception"
      ]
    },
    {
      "cell_type": "markdown",
      "metadata": {
        "id": "Sz-3VK19IOr5"
      },
      "source": [
        "> Utilizando el operador ```and``` se pueden añadir tantas comparaciones como sea necesario, por ejemplo, si necesitaramos comparar contra más de dos películas. Lo importante es tener presente que el resultado será ```True``` sí y solo sí **todos** los operandos son ```True```."
      ]
    },
    {
      "cell_type": "code",
      "execution_count": 13,
      "metadata": {
        "colab": {
          "base_uri": "https://localhost:8080/"
        },
        "id": "vzFGcSRBMNzM",
        "outputId": "2203b071-4012-4e9f-ca6c-78f9df117cf7"
      },
      "outputs": [
        {
          "data": {
            "text/plain": [
              "True"
            ]
          },
          "execution_count": 13,
          "metadata": {},
          "output_type": "execute_result"
        }
      ],
      "source": [
        "the_prestige = 8.5\n",
        "the_dark_knight > interstellar and the_dark_knight > inception and the_dark_knight > the_prestige"
      ]
    },
    {
      "cell_type": "markdown",
      "metadata": {
        "id": "dRuTvZJGJkcC"
      },
      "source": [
        "## or\n",
        "\n",
        "Si al menos uno de los operandos es ```True```, entonces, el resultado es ```True```. En este caso, el resultado será ```False```únicamente cuando todos los operandos sean ```False```. Su tabla de verdad corresponde al operador de Disyunción.\n",
        "\n",
        "| a     | b     |  a or b |\n",
        "|-------|-------|-----------|\n",
        "| False | False | False     |\n",
        "| False | True  | True     |\n",
        "| True  | False | True     |\n",
        "| True  | True  | True      |\n",
        "\n",
        "Crearemos la siguiente variables para comprender su funcionamiento. Asumamos que una tienda tiene una promoción especial del 20% de descuento si el cliente realiza el pago con una tarjeta de crédito a 6 o 12 cuotas."
      ]
    },
    {
      "cell_type": "code",
      "execution_count": 1,
      "metadata": {
        "colab": {
          "base_uri": "https://localhost:8080/",
          "height": 52
        },
        "id": "6kvXyj1yJwsb",
        "outputId": "382568ea-9f0c-4772-d6de-afbae26ee793"
      },
      "outputs": [],
      "source": [
        "numCuotas = 6"
      ]
    },
    {
      "cell_type": "markdown",
      "metadata": {},
      "source": [
        "Entonces, podríamos utilizar el operador ```or``` para evaluar si la cantidad de cuotas seleccionada por el cliente, ```numCuotas```, coincide con el valor 6 o 12."
      ]
    },
    {
      "cell_type": "code",
      "execution_count": 2,
      "metadata": {
        "colab": {
          "base_uri": "https://localhost:8080/",
          "height": 52
        },
        "id": "7H294_QQMrq1",
        "outputId": "93c462ae-21de-4b28-a5e2-1aa3c23c6e33"
      },
      "outputs": [
        {
          "data": {
            "text/plain": [
              "True"
            ]
          },
          "execution_count": 2,
          "metadata": {},
          "output_type": "execute_result"
        }
      ],
      "source": [
        "numCuotas == 6 or numCuotas == 12"
      ]
    },
    {
      "cell_type": "markdown",
      "metadata": {},
      "source": [
        "Al evaluar la expresión, obtenemos el resultado de ```True``` debido a que la primera comparación es verdadera. Al igual que la subsección anterior, analicemos cómo es evaluada la expresión anterior en pasos.\n",
        "\n",
        "Primero, se realizan las operaciones de comparación."
      ]
    },
    {
      "cell_type": "code",
      "execution_count": 3,
      "metadata": {},
      "outputs": [
        {
          "data": {
            "text/plain": [
              "True"
            ]
          },
          "execution_count": 3,
          "metadata": {},
          "output_type": "execute_result"
        }
      ],
      "source": [
        "numCuotas == 6"
      ]
    },
    {
      "cell_type": "code",
      "execution_count": 4,
      "metadata": {},
      "outputs": [
        {
          "data": {
            "text/plain": [
              "False"
            ]
          },
          "execution_count": 4,
          "metadata": {},
          "output_type": "execute_result"
        }
      ],
      "source": [
        "numCuotas == 12"
      ]
    },
    {
      "cell_type": "markdown",
      "metadata": {},
      "source": [
        "Luego, se toman los resultados de cada comparación y se evalúa el operador lógico."
      ]
    },
    {
      "cell_type": "code",
      "execution_count": 5,
      "metadata": {},
      "outputs": [
        {
          "data": {
            "text/plain": [
              "True"
            ]
          },
          "execution_count": 5,
          "metadata": {},
          "output_type": "execute_result"
        }
      ],
      "source": [
        "True or False"
      ]
    },
    {
      "cell_type": "markdown",
      "metadata": {},
      "source": [
        "El resultado coincide con la tabla de verdad para disyunción. Al igual que el operador ```and```, es posible anidar más comparaciones en una misma expresión. Por ejemplo, podríamos ampliar la promoción a 18 y 24 cuotas."
      ]
    },
    {
      "cell_type": "code",
      "execution_count": 6,
      "metadata": {},
      "outputs": [
        {
          "data": {
            "text/plain": [
              "True"
            ]
          },
          "execution_count": 6,
          "metadata": {},
          "output_type": "execute_result"
        }
      ],
      "source": [
        "(numCuotas == 6\n",
        " or numCuotas == 12\n",
        " or numCuotas == 18\n",
        " or numCuotas == 24)"
      ]
    },
    {
      "cell_type": "markdown",
      "metadata": {
        "id": "fOxFdNzyM4To"
      },
      "source": [
        "## not\n",
        "\n",
        "Invierte el valor lógico del operando."
      ]
    },
    {
      "cell_type": "code",
      "execution_count": null,
      "metadata": {
        "colab": {
          "base_uri": "https://localhost:8080/",
          "height": 52
        },
        "id": "jiS6OkIQHDCV",
        "outputId": "44e8571b-d5b5-45ea-d395-733b8026501a"
      },
      "outputs": [
        {
          "name": "stdout",
          "output_type": "stream",
          "text": [
            "El usuario está disponible: \n",
            "False\n"
          ]
        }
      ],
      "source": [
        "ocupado = True\n",
        "print(\"El usuario está disponible: \")\n",
        "print(not ocupado)"
      ]
    }
  ],
  "metadata": {
    "colab": {
      "provenance": []
    },
    "kernelspec": {
      "display_name": "Python 3",
      "name": "python3"
    },
    "language_info": {
      "codemirror_mode": {
        "name": "ipython",
        "version": 3
      },
      "file_extension": ".py",
      "mimetype": "text/x-python",
      "name": "python",
      "nbconvert_exporter": "python",
      "pygments_lexer": "ipython3",
      "version": "3.11.5"
    }
  },
  "nbformat": 4,
  "nbformat_minor": 0
}
