{
  "nbformat": 4,
  "nbformat_minor": 0,
  "metadata": {
    "colab": {
      "provenance": []
    },
    "kernelspec": {
      "name": "python3",
      "display_name": "Python 3"
    }
  },
  "cells": [
    {
      "cell_type": "markdown",
      "metadata": {
        "id": "HBeGongnDqXB"
      },
      "source": [
        "# Sentencias condicionales\n",
        "Las sentencias condicionales modifican la ejecución del programa y ayudan a automatizar la toma de decisiones.\n",
        "\n",
        "En Python, podemos utilizar las siguientes sentencias condicionales:\n",
        "* if\n",
        "* elif\n",
        "* else\n",
        "\n",
        "\n"
      ]
    },
    {
      "cell_type": "markdown",
      "metadata": {
        "id": "RKoeZvOMJ6xj"
      },
      "source": [
        "## if\n",
        "Si la condición es **True**, entonces, se ejecuta el código con indentación siguiente. Si la condición es **False**, salta el código con indentación y continúa la ejecución del programa.\n",
        "\n",
        "Marca el inicio de una o más condiciones."
      ]
    },
    {
      "cell_type": "code",
      "metadata": {
        "id": "QVnLSXZ8DnP-",
        "colab": {
          "base_uri": "https://localhost:8080/",
          "height": 68
        },
        "outputId": "cb451736-733b-4fa4-fb59-dff352408ce5"
      },
      "source": [
        "saludo = True\n",
        "\n",
        "if saludo:\n",
        "  print(\"Bienvenido a\")\n",
        "  print(\"mi progama\")\n",
        "print(\"Fin\")"
      ],
      "execution_count": null,
      "outputs": [
        {
          "output_type": "stream",
          "text": [
            "Bienvenido a\n",
            "mi progama\n",
            "Fin\n"
          ],
          "name": "stdout"
        }
      ]
    },
    {
      "cell_type": "code",
      "metadata": {
        "id": "T_XKsNz7LAMP",
        "colab": {
          "base_uri": "https://localhost:8080/",
          "height": 34
        },
        "outputId": "dca33ce4-ca14-4320-cfb4-8690a3322937"
      },
      "source": [
        "nombre = \"Invitado\"\n",
        "usuario = \"diego.morales\"\n",
        "\n",
        "if usuario == \"diego.morales\":\n",
        "  nombre = \"Diego\"\n",
        "\n",
        "print(\"Hola\", nombre)"
      ],
      "execution_count": null,
      "outputs": [
        {
          "output_type": "stream",
          "text": [
            "Hola Diego\n"
          ],
          "name": "stdout"
        }
      ]
    },
    {
      "cell_type": "markdown",
      "metadata": {
        "id": "zu1UghU2GvkH"
      },
      "source": [
        "## elif\n",
        "\n",
        "Si la condición anterior no se cumple, entonces, se evalúa esta condición (de la misma forma que **if**).\n",
        "\n",
        "Se pueden utilizar todos los **elif** que sean necesarios para evaluar diversas condiciones.\n",
        "\n",
        "Tomar en consideración que antes del primer **elif** debe haber un **if**.\n",
        "\n",
        "\n",
        "\n"
      ]
    },
    {
      "cell_type": "code",
      "metadata": {
        "id": "iwo8ZOnZG33a",
        "colab": {
          "base_uri": "https://localhost:8080/",
          "height": 68
        },
        "outputId": "eec8e5fb-3bf7-44ee-a92f-24e03b0d5f59"
      },
      "source": [
        "notaFinal = 50\n",
        "notaMinima = 60\n",
        "if notaFinal >= notaMinima:\n",
        "  print(\"Has aprobado el curso con una nota de\", notaFinal)\n",
        "  print(\"¡Felicidades!\")\n",
        "elif notaFinal < notaMinima:\n",
        "  print(\"Has reprobado el curso con una nota de\", notaFinal)\n",
        "  print(\"La nota mínima para aprobar el curso es de\", notaMinima)\n",
        "\n",
        "print(\"Fin\")"
      ],
      "execution_count": null,
      "outputs": [
        {
          "output_type": "stream",
          "text": [
            "Has reprobado el curso con una nota de 50\n",
            "La nota mínima para aprobar el curso es de 60\n",
            "Fin\n"
          ],
          "name": "stdout"
        }
      ]
    },
    {
      "cell_type": "markdown",
      "metadata": {
        "id": "JVYmc6YuNLrq"
      },
      "source": [
        "## else\n",
        "Si ninguna de las condiciones anteriores se cumple, entonces, se ejecuta el código dentro del **else**.\n",
        "\n",
        "Es la única sentencia que **no requiere de una condición para evaluar**."
      ]
    },
    {
      "cell_type": "code",
      "metadata": {
        "id": "ThqozsCwNH5D",
        "colab": {
          "base_uri": "https://localhost:8080/",
          "height": 34
        },
        "outputId": "99b1bb83-ec97-43fe-ef86-f091c1fe9612"
      },
      "source": [
        "edadJohn = 18\n",
        "edadIsa = 18\n",
        "\n",
        "if edadJohn > edadIsa:\n",
        "  print(\"John es mayor a Isa\")\n",
        "elif edadJohn < edadIsa:\n",
        "  print(\"Isa es mayor a John\")\n",
        "else:\n",
        "  print(\"Ambos tienen la misma edad\")"
      ],
      "execution_count": null,
      "outputs": [
        {
          "output_type": "stream",
          "text": [
            "Ambos tienen la misma edad\n"
          ],
          "name": "stdout"
        }
      ]
    },
    {
      "cell_type": "markdown",
      "metadata": {
        "id": "y80BrBHeOmOg"
      },
      "source": [
        "# Flujo de control\n",
        "\n",
        "A continuación se muestran algunos ejemplos de la utilización de las sentencias condicionales para comprender cómo afecta la ejecución del programa."
      ]
    },
    {
      "cell_type": "markdown",
      "metadata": {
        "id": "9UK-FUwnVRsk"
      },
      "source": [
        "### Ejemplo 1\n",
        "\n",
        "En este ejemplo evalúamos si un número es par o impar. Veremos que podemos emplear **if** y **else** sin necesidad de colocar un **elif**."
      ]
    },
    {
      "cell_type": "code",
      "metadata": {
        "id": "0cAmW1pWOGkb",
        "colab": {
          "base_uri": "https://localhost:8080/",
          "height": 34
        },
        "outputId": "63cef9be-9e05-428f-beea-c09cdd73cbb1"
      },
      "source": [
        "num = 7\n",
        "\n",
        "if num%2 == 0:\n",
        "  print(num, \"es par\")\n",
        "else:\n",
        "  print(num, \"es impar\")"
      ],
      "execution_count": null,
      "outputs": [
        {
          "output_type": "stream",
          "text": [
            "7 es impar\n"
          ],
          "name": "stdout"
        }
      ]
    },
    {
      "cell_type": "markdown",
      "metadata": {
        "id": "n63qik8GVrQ6"
      },
      "source": [
        "### Ejemplo 2\n",
        "\n",
        "El siguiente código, evalúa el índice de masa corporal de una persona e imprime un mensaje dependiendo del resultado."
      ]
    },
    {
      "cell_type": "code",
      "metadata": {
        "id": "htmMeGNkOQfB",
        "colab": {
          "base_uri": "https://localhost:8080/",
          "height": 68
        },
        "outputId": "cbc158ff-fc9b-44c5-e735-b7156590ac26"
      },
      "source": [
        "pesoKg = 100\n",
        "alturaM = 1.7\n",
        "\n",
        "imc = pesoKg/alturaM**2\n",
        "imc = round(imc, 2)\n",
        "print(\"Su resultado de IMC es\", imc)\n",
        "\n",
        "if imc < 15:\n",
        "  print(\"Bajo peso\")\n",
        "elif imc < 25:\n",
        "  print(\"Peso normal\")\n",
        "elif imc < 30:\n",
        "  print(\"Sobrepeso\")\n",
        "else:\n",
        "  print(\"Obesidad\")\n",
        "\n",
        "print(\"Fin\")"
      ],
      "execution_count": null,
      "outputs": [
        {
          "output_type": "stream",
          "text": [
            "Su resultado de IMC es 34.6\n",
            "Obesidad\n",
            "Fin\n"
          ],
          "name": "stdout"
        }
      ]
    },
    {
      "cell_type": "markdown",
      "metadata": {
        "id": "MfUXOYlkW1V5"
      },
      "source": [
        "El siguiente código no utiliza adecuadamente las sentencias condicionales."
      ]
    },
    {
      "cell_type": "code",
      "metadata": {
        "id": "l6dQ1Z3rWFnB",
        "colab": {
          "base_uri": "https://localhost:8080/",
          "height": 103
        },
        "outputId": "7b5bb087-fc14-44f4-d688-ab99454bd72f"
      },
      "source": [
        "pesoKg = 40\n",
        "alturaM = 1.7\n",
        "\n",
        "imc = pesoKg/alturaM**2\n",
        "imc = round(imc, 2)\n",
        "print(\"Su resultado de IMC es\", imc)\n",
        "\n",
        "if imc < 15:\n",
        "  print(\"Bajo peso\")\n",
        "if imc < 25:\n",
        "  print(\"Peso normal\")\n",
        "if imc < 30:\n",
        "  print(\"Sobrepeso\")\n",
        "else:\n",
        "  print(\"Obesidad\")\n",
        "\n",
        "print(\"Fin\")"
      ],
      "execution_count": null,
      "outputs": [
        {
          "output_type": "stream",
          "text": [
            "Su resultado de IMC es 13.84\n",
            "Bajo peso\n",
            "Peso normal\n",
            "Sobrepeso\n",
            "Fin\n"
          ],
          "name": "stdout"
        }
      ]
    },
    {
      "cell_type": "markdown",
      "metadata": {
        "id": "KthGP84kWHbt"
      },
      "source": [
        "### Ejemplo 3\n",
        "\n",
        "En el siguiente ejemplo, se emplean operadores de comparación en conjunto con operadores lógicos. Esto nos permite unir más de una expresión dentro de la misma condición."
      ]
    },
    {
      "cell_type": "code",
      "metadata": {
        "id": "2_UynOIoWQcC",
        "colab": {
          "base_uri": "https://localhost:8080/",
          "height": 51
        },
        "outputId": "2f752057-34e9-40e6-d037-6e0160369dfb"
      },
      "source": [
        "birthDate = int(input(\"¿Cuál es tu año de nacimiento? \"))\n",
        "\n",
        "if birthDate>=1944 and birthDate<=1964:\n",
        "  generation = \"Baby Boomer\"\n",
        "elif birthDate>=1965 and birthDate<=1979:\n",
        "  generation = \"X\"\n",
        "elif birthDate>=1980 and birthDate<=1994:\n",
        "  generation = \"Y o millennial\"\n",
        "elif birthDate>=1995 and birthDate<=2015:\n",
        "  generation = \"Z\"\n",
        "else:\n",
        "  generation = \"Desconocida\"\n",
        "\n",
        "print(\"Perteneces a la generación\", generation)"
      ],
      "execution_count": null,
      "outputs": [
        {
          "output_type": "stream",
          "text": [
            "¿Cuál es tu año de nacimiento? 1950\n",
            "Perteneces a la generación Baby Boomer\n"
          ],
          "name": "stdout"
        }
      ]
    },
    {
      "cell_type": "markdown",
      "metadata": {
        "id": "hVGkXuN7Mda6"
      },
      "source": [
        "## Método abreviado para if-else\n",
        "\n",
        "Existe una forma de abreviar códigos sencillos en los cuales se utiliza if-else y solamente poseen una línea de indentación.\n",
        "\n",
        "Por ejemplo, si tenemos el siguiente programa que evalúa si un cliente debe obtener una pizza gratis o no.\n",
        "\n",
        "La condición es que si la pizza fue entregada un tiempo mayor a 30 minutos, entonces la pizza es gratis. De lo contrario, se indica el monto a cancelar.\n"
      ]
    },
    {
      "cell_type": "code",
      "metadata": {
        "id": "yRNbpz_FMyze",
        "colab": {
          "base_uri": "https://localhost:8080/",
          "height": 34
        },
        "outputId": "d59dba24-7cab-41eb-e99a-097d034901a3"
      },
      "source": [
        "entrega = 18\n",
        "\n",
        "if entrega <= 30:\n",
        "  print(\"Total: Q99\")\n",
        "else:\n",
        "  print(\"Gratis\")"
      ],
      "execution_count": null,
      "outputs": [
        {
          "output_type": "stream",
          "text": [
            "Gratis\n"
          ],
          "name": "stdout"
        }
      ]
    },
    {
      "cell_type": "markdown",
      "metadata": {
        "id": "UkbQ95MINgKy"
      },
      "source": [
        "El código de las sentencias condicionales se puede resumir en una sola línea, cambiando el orden de la siguiente forma:"
      ]
    },
    {
      "cell_type": "code",
      "metadata": {
        "id": "6FQp0f0ONfNW",
        "colab": {
          "base_uri": "https://localhost:8080/",
          "height": 34
        },
        "outputId": "dc5c5b8f-fb31-495a-cafa-122674e85d9b"
      },
      "source": [
        "entrega = 45\n",
        "\n",
        "print(\"Total: Q99\" if entrega <= 30 else \"Gratis\")"
      ],
      "execution_count": null,
      "outputs": [
        {
          "output_type": "stream",
          "text": [
            "Gratis\n"
          ],
          "name": "stdout"
        }
      ]
    }
  ]
}