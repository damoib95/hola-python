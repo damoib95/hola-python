{
  "nbformat": 4,
  "nbformat_minor": 0,
  "metadata": {
    "colab": {
      "provenance": []
    },
    "kernelspec": {
      "name": "python3",
      "display_name": "Python 3"
    }
  },
  "cells": [
    {
      "cell_type": "markdown",
      "metadata": {
        "id": "HBeGongnDqXB"
      },
      "source": [
        "# Búcles\n",
        "\n",
        "Los búcles se utilizan para repetir la ejecución un conjunto de instrucciones (iteración).\n",
        "\n",
        "Existen dos tipos de búcles:\n",
        "* while\n",
        "* for\n",
        "\n",
        "\n"
      ]
    },
    {
      "cell_type": "markdown",
      "metadata": {
        "id": "nnrOvyxOHXTi"
      },
      "source": [
        "## while\n",
        "\n",
        "El búcle *while* permite ejecutar un conjunto de instrucciones siempre que la condición sea **True**.\n",
        "\n",
        "Utiliza la siguiente *sintaxis*:\n",
        "\n",
        "```\n",
        "while condición:\n",
        "  instrucción1\n",
        "  instrucción2\n",
        "  ...\n",
        "  instrucciónN\n",
        "```\n",
        "\n"
      ]
    },
    {
      "cell_type": "code",
      "metadata": {
        "id": "uKhrW3vuGiGK",
        "colab": {
          "base_uri": "https://localhost:8080/",
          "height": 104
        },
        "outputId": "2c61f37a-1d21-45d5-fac4-717ddc2013d3"
      },
      "source": [
        "pizza = 4\n",
        "while pizza > 0:\n",
        "  print(\"Porción entregada.\")\n",
        "  pizza -= 1\n",
        "\n",
        "print(\"No quedan más porciones.\")"
      ],
      "execution_count": null,
      "outputs": [
        {
          "output_type": "stream",
          "text": [
            "Porción entregada.\n",
            "Porción entregada.\n",
            "Porción entregada.\n",
            "Porción entregada.\n",
            "No quedan más porciones.\n"
          ],
          "name": "stdout"
        }
      ]
    },
    {
      "cell_type": "markdown",
      "metadata": {
        "id": "bCMYfK8FhYe5"
      },
      "source": [
        "### break\n",
        "\n",
        "Detiene la ejecución de un búcle, aunque la condición sea verdadera."
      ]
    },
    {
      "cell_type": "code",
      "metadata": {
        "id": "d3MetyXeiYUl",
        "colab": {
          "base_uri": "https://localhost:8080/",
          "height": 139
        },
        "outputId": "f2694e46-8c79-43fb-a9fc-9b9dff070495"
      },
      "source": [
        "acceso = False #flag\n",
        "while acceso == False:\n",
        "  ingreso = input(\"Código de acceso: \")\n",
        "  if ingreso == \"5426\":\n",
        "    print(\"Acceso concedido.\")\n",
        "    acceso = True\n",
        "  else:\n",
        "    print(\"Código inválido.\")\n",
        "\n",
        "print(\"Ingresando al sistema.\")"
      ],
      "execution_count": null,
      "outputs": [
        {
          "output_type": "stream",
          "text": [
            "Código de acceso: 1234\n",
            "Código inválido.\n",
            "Código de acceso: 0000\n",
            "Código inválido.\n",
            "Código de acceso: 5426\n",
            "Acceso concedido.\n",
            "Ingresando al sistema.\n"
          ],
          "name": "stdout"
        }
      ]
    },
    {
      "cell_type": "code",
      "metadata": {
        "id": "z1ix7c0h60Yj",
        "colab": {
          "base_uri": "https://localhost:8080/",
          "height": 139
        },
        "outputId": "59936599-060d-4726-e511-e82dfb5661de"
      },
      "source": [
        "while True:\n",
        "  ingreso = input(\"Código de acceso: \")\n",
        "  if ingreso == \"5426\":\n",
        "    print(\"Acceso concedido.\")\n",
        "    break\n",
        "  else:\n",
        "    print(\"Código inválido.\")\n",
        "\n",
        "print(\"Ingresando al sistema.\")"
      ],
      "execution_count": null,
      "outputs": [
        {
          "output_type": "stream",
          "text": [
            "Código de acceso: 2356\n",
            "Código inválido.\n",
            "Código de acceso: 4789\n",
            "Código inválido.\n",
            "Código de acceso: 5426\n",
            "Acceso concedido.\n",
            "Ingresando al sistema.\n"
          ],
          "name": "stdout"
        }
      ]
    },
    {
      "cell_type": "markdown",
      "metadata": {
        "id": "EioRfjGOhZx4"
      },
      "source": [
        "### continue\n",
        "\n",
        "Salta la iteración actual y continúa con la siguiente."
      ]
    },
    {
      "cell_type": "code",
      "metadata": {
        "id": "ecczcP8thbts",
        "colab": {
          "base_uri": "https://localhost:8080/",
          "height": 35
        },
        "outputId": "e56fe7d0-d315-44d0-dd18-9091a84e655d"
      },
      "source": [
        "number = '124,256,312'\n",
        "result = ''\n",
        "index = 0\n",
        "\n",
        "while index<len(number):\n",
        "  if number[index]==',':\n",
        "    index += 1\n",
        "    continue\n",
        "  result += number[index]\n",
        "  index += 1\n",
        "\n",
        "print(result)"
      ],
      "execution_count": null,
      "outputs": [
        {
          "output_type": "stream",
          "text": [
            "124256312\n"
          ],
          "name": "stdout"
        }
      ]
    },
    {
      "cell_type": "code",
      "metadata": {
        "id": "gNK6sXbECC_w",
        "colab": {
          "base_uri": "https://localhost:8080/",
          "height": 35
        },
        "outputId": "c964898a-a4e4-4933-ea63-fb190ed02646"
      },
      "source": [
        "result = number.replace(',','')\n",
        "print(result)"
      ],
      "execution_count": null,
      "outputs": [
        {
          "output_type": "stream",
          "text": [
            "124256312\n"
          ],
          "name": "stdout"
        }
      ]
    },
    {
      "cell_type": "markdown",
      "metadata": {
        "id": "FpPRPcyZFm1i"
      },
      "source": [
        "### Ejemplo\n",
        "\n",
        "A continuación, crearemos un juego sencillo en el cual seleccionaremos un número al azar y el usuario deberá adivinar cuál es el número."
      ]
    },
    {
      "cell_type": "code",
      "metadata": {
        "id": "wNzoIGYsFmM6",
        "colab": {
          "base_uri": "https://localhost:8080/",
          "height": 572
        },
        "outputId": "26fb8fc7-51b5-4aeb-f349-4a4a0e47b7aa"
      },
      "source": [
        "import random\n",
        "\n",
        "number = random.randint(1,9)\n",
        "guess = 0\n",
        "\n",
        "print(\"Welcome to Guess a Number\")\n",
        "while guess != number:\n",
        "  print(\"\\nChoose a number from 1 to 9: \")\n",
        "  print(\"Write -1 if you want to exit.\")\n",
        "  guess = int(input())\n",
        "  if guess==-1:\n",
        "    break\n",
        "  if guess>9:\n",
        "    print(\"Your number is too big.\")\n",
        "    continue\n",
        "  if guess==number:\n",
        "    print(\"Congratulations!\")\n",
        "  else:\n",
        "    print(\"Try again.\")\n",
        "print(\"Thank you for playing\")"
      ],
      "execution_count": null,
      "outputs": [
        {
          "output_type": "stream",
          "text": [
            "Welcome to Guess a Number\n",
            "\n",
            "Choose a number from 1 to 9: \n",
            "Write -1 if you want to exit.\n",
            "25\n",
            "Your number is too big.\n",
            "\n",
            "Choose a number from 1 to 9: \n",
            "Write -1 if you want to exit.\n",
            "4\n",
            "Try again.\n",
            "\n",
            "Choose a number from 1 to 9: \n",
            "Write -1 if you want to exit.\n",
            "7\n",
            "Try again.\n",
            "\n",
            "Choose a number from 1 to 9: \n",
            "Write -1 if you want to exit.\n",
            "8\n",
            "Try again.\n",
            "\n",
            "Choose a number from 1 to 9: \n",
            "Write -1 if you want to exit.\n",
            "9\n",
            "Try again.\n",
            "\n",
            "Choose a number from 1 to 9: \n",
            "Write -1 if you want to exit.\n",
            "1\n",
            "Congratulations!\n",
            "Thank you for playing\n"
          ],
          "name": "stdout"
        }
      ]
    },
    {
      "cell_type": "code",
      "metadata": {
        "id": "T5yh0vq4OpwK"
      },
      "source": [],
      "execution_count": null,
      "outputs": []
    },
    {
      "cell_type": "markdown",
      "metadata": {
        "id": "5rHPFAcUFUC4"
      },
      "source": [
        "## for\n",
        "\n",
        "El búcle for se utiliza para realizar iteraciones sobre una secuencia (lista, tupla, diccionario, conjunto, string).\n",
        "\n",
        "Se ejecuta el conjunto de instrucciones hasta iterar sobre la secuencia completa.\n"
      ]
    },
    {
      "cell_type": "code",
      "metadata": {
        "id": "cc8-s1EVINGW"
      },
      "source": [
        "pares = [0, 2, 4, 6, 8]\n",
        "for n in pares:\n",
        "  print(n)\n",
        "  print('es par.')\n",
        "\n",
        "print('Búcle finalizado')"
      ],
      "execution_count": null,
      "outputs": []
    },
    {
      "cell_type": "code",
      "metadata": {
        "id": "0DxGzIAgIWcX",
        "colab": {
          "base_uri": "https://localhost:8080/",
          "height": 104
        },
        "outputId": "bd9302d3-8065-43e4-f4e5-c62e53b200ba"
      },
      "source": [
        "nombre = 'Diego'\n",
        "for i in nombre:\n",
        "  print(i)"
      ],
      "execution_count": null,
      "outputs": [
        {
          "output_type": "stream",
          "text": [
            "D\n",
            "i\n",
            "e\n",
            "g\n",
            "o\n"
          ],
          "name": "stdout"
        }
      ]
    },
    {
      "cell_type": "markdown",
      "metadata": {
        "id": "nx4ayZYjNRO-"
      },
      "source": [
        "### range()\n",
        "La función *range()* retorna una secuencia de números iniciando en 0 (por defecto) e incrementando en 1 (por defecto) hasta el número indicado (sin incluirlo).\n",
        "\n",
        "Utiliza la siguiente sintaxis.\n",
        "\n",
        "```\n",
        "range(inicio, final, paso)\n",
        "```\n",
        "\n",
        "\n"
      ]
    },
    {
      "cell_type": "code",
      "metadata": {
        "id": "futYQB1LNlre",
        "colab": {
          "base_uri": "https://localhost:8080/",
          "height": 191
        },
        "outputId": "a0a72ad1-5179-4cf1-dc96-688574e2a86b"
      },
      "source": [
        "for x in range(0, 10):\n",
        "  print(x)"
      ],
      "execution_count": null,
      "outputs": [
        {
          "output_type": "stream",
          "text": [
            "0\n",
            "1\n",
            "2\n",
            "3\n",
            "4\n",
            "5\n",
            "6\n",
            "7\n",
            "8\n",
            "9\n"
          ],
          "name": "stdout"
        }
      ]
    },
    {
      "cell_type": "markdown",
      "metadata": {
        "id": "lC_RUsCjM7cy"
      },
      "source": [
        "### break\n",
        "\n",
        "Detiene la ejecución del búcle aunque no se haya iterado por toda la secuencia."
      ]
    },
    {
      "cell_type": "code",
      "metadata": {
        "id": "_XTJ9PgpNAUZ",
        "colab": {
          "base_uri": "https://localhost:8080/",
          "height": 87
        },
        "outputId": "aa153455-22d3-4df8-ef01-170c65a4c653"
      },
      "source": [
        "personas = [0, 0, 0, 1, 0, 0]\n",
        "\n",
        "for persona in personas:\n",
        "  if persona==1:\n",
        "    break\n",
        "  print('Pato...')\n",
        "print('¡Ganso!')"
      ],
      "execution_count": null,
      "outputs": [
        {
          "output_type": "stream",
          "text": [
            "Pato...\n",
            "Pato...\n",
            "Pato...\n",
            "¡Ganso!\n"
          ],
          "name": "stdout"
        }
      ]
    },
    {
      "cell_type": "markdown",
      "metadata": {
        "id": "ak2uhFwfM7bS"
      },
      "source": [
        "### continue\n",
        "\n",
        "Salta la iteración actual y continúa con la siguiente."
      ]
    },
    {
      "cell_type": "code",
      "metadata": {
        "id": "i4wwRc99M4UX"
      },
      "source": [
        "limite = 47\n",
        "for x in range(limite):\n",
        "    if x % 2 == 0:\n",
        "        continue\n",
        "    print(x)"
      ],
      "execution_count": null,
      "outputs": []
    },
    {
      "cell_type": "markdown",
      "metadata": {
        "id": "cjzTKH5caTu4"
      },
      "source": [
        "### Ejemplo\n",
        "\n",
        "A continuación, utilizaremos un búcle for para crear un programa de cifrado.\n",
        "\n",
        "Recordemos que los string son cadenas de caracteres. Cada caracter se puede representar por un número (ver [ASCII Chart](https://python-reference.readthedocs.io/en/latest/docs/str/ASCII.html)).\n",
        "\n",
        "Podemos utilizar la función *ord()* para determinar el valor decimal de un caracter. También podemos utilizar la función *chr()* para determinar el caracter correspondiente a un valor decimal."
      ]
    },
    {
      "cell_type": "code",
      "metadata": {
        "id": "0a4fnG7PdE04",
        "colab": {
          "base_uri": "https://localhost:8080/",
          "height": 35
        },
        "outputId": "d32d07e1-bbe6-42e1-e8f9-4e35b61df80a"
      },
      "source": [
        "print(ord('A'))"
      ],
      "execution_count": null,
      "outputs": [
        {
          "output_type": "stream",
          "text": [
            "65\n"
          ],
          "name": "stdout"
        }
      ]
    },
    {
      "cell_type": "code",
      "metadata": {
        "id": "Sa1YAaBWkWwC",
        "colab": {
          "base_uri": "https://localhost:8080/",
          "height": 35
        },
        "outputId": "aaf8ad9e-28ce-4322-cfbc-94681ff58656"
      },
      "source": [
        "print(chr(68))"
      ],
      "execution_count": null,
      "outputs": [
        {
          "output_type": "stream",
          "text": [
            "D\n"
          ],
          "name": "stdout"
        }
      ]
    },
    {
      "cell_type": "markdown",
      "metadata": {
        "id": "auFdtbmVmkgm"
      },
      "source": [
        "El siguiente código utiliza un búcle *for* para codificar un texto a partir de una llave *k*."
      ]
    },
    {
      "cell_type": "code",
      "metadata": {
        "id": "NL_xfM24YZ4C",
        "colab": {
          "base_uri": "https://localhost:8080/",
          "height": 35
        },
        "outputId": "7819db91-9140-4d00-eb58-3a79c5a26814"
      },
      "source": [
        "texto = \"Me gusta programar\"\n",
        "k = 3\n",
        "cifrado = \"\"\n",
        "for letra in texto:\n",
        "    x = ord(c)\n",
        "    x = x + k\n",
        "    c2 = chr(x)\n",
        "    cifrado += c2\n",
        "print(cifrado)"
      ],
      "execution_count": null,
      "outputs": [
        {
          "output_type": "stream",
          "text": [
            "Ph#jxvwd#surjudpdu\n"
          ],
          "name": "stdout"
        }
      ]
    },
    {
      "cell_type": "markdown",
      "metadata": {
        "id": "axPg9Entmq1x"
      },
      "source": [
        "El siguiente realiza el procedimiento inverso. En este caso, se ingresa un texto cifrado y se decodifica a partir de la llave correcta."
      ]
    },
    {
      "cell_type": "code",
      "metadata": {
        "id": "mJGn0N5WaQKK",
        "colab": {
          "base_uri": "https://localhost:8080/",
          "height": 35
        },
        "outputId": "13ce3598-cf64-47e4-fedf-906dbf237e06"
      },
      "source": [
        "cifrado = 'Ph#jxvwd#surjudpdu'\n",
        "k = 3\n",
        "decodificacion= \"\"\n",
        "for c in cifrado:\n",
        "    x = ord(c)\n",
        "    x = x - k\n",
        "    c2 = chr(x)\n",
        "    decodificacion += c2\n",
        "print(decodificacion)"
      ],
      "execution_count": null,
      "outputs": [
        {
          "output_type": "stream",
          "text": [
            "Me gusta programar\n"
          ],
          "name": "stdout"
        }
      ]
    }
  ]
}